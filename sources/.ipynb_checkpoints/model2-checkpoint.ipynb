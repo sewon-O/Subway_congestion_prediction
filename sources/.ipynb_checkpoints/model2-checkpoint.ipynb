{
 "cells": [
  {
   "cell_type": "code",
   "execution_count": 1,
   "id": "59e82865",
   "metadata": {},
   "outputs": [],
   "source": [
    "import numpy as np\n",
    "import pandas as pd"
   ]
  },
  {
   "cell_type": "code",
   "execution_count": 2,
   "id": "f9d66a38",
   "metadata": {},
   "outputs": [
    {
     "name": "stdout",
     "output_type": "stream",
     "text": [
      "cuda\n"
     ]
    }
   ],
   "source": [
    "import torch\n",
    "if torch.cuda.is_available():\n",
    "    device = \"cuda\"\n",
    "elif torch.backends.mps.is_available():\n",
    "    device = \"mps\"\n",
    "else:\n",
    "    device = \"cpu\"\n",
    "print(device)"
   ]
  },
  {
   "cell_type": "code",
   "execution_count": 3,
   "id": "ef9490c8",
   "metadata": {},
   "outputs": [
    {
     "name": "stdout",
     "output_type": "stream",
     "text": [
      "NVIDIA GeForce RTX 4070 Laptop GPU\n"
     ]
    }
   ],
   "source": [
    "#check gpu device (if using gpu)\n",
    "print(torch.cuda.get_device_name(0))"
   ]
  },
  {
   "cell_type": "code",
   "execution_count": 4,
   "id": "29a0c44a",
   "metadata": {},
   "outputs": [],
   "source": [
    "df = pd.read_csv(\"2022_final.csv\", encoding='cp949')\n",
    "stations_to_remove = df[(df['역번호'] > 1000) | (df['역번호'] < 199)].index\n",
    "df.drop(stations_to_remove, inplace=True)"
   ]
  },
  {
   "cell_type": "code",
   "execution_count": 5,
   "id": "487dbd09",
   "metadata": {},
   "outputs": [],
   "source": [
    "from sklearn.preprocessing import MinMaxScaler\n",
    "\n",
    "feature_scaler = MinMaxScaler(feature_range=(0, 1))\n",
    "up_weekday_scaler = MinMaxScaler(feature_range=(0, 1))\n",
    "up_saturday_scaler = MinMaxScaler(feature_range=(0, 1))\n",
    "up_sunday_scaler = MinMaxScaler(feature_range=(0, 1))\n",
    "down_weekday_scaler = MinMaxScaler(feature_range=(0, 1))\n",
    "down_saturday_scaler = MinMaxScaler(feature_range=(0, 1))\n",
    "down_sunday_scaler = MinMaxScaler(feature_range=(0, 1))\n",
    "\n",
    "features = ['승차_Weekday', '승차_Saturday', '승차_Sunday', '하차_Weekday', '하차_Saturday', '하차_Sunday', '환승_Weekday', '환승_Saturday', '환승_Sunday', 'interval_Weekday', 'interval_Saturday', 'interval_Sunday', 'capacity']\n",
    "\n",
    "df[features] = feature_scaler.fit_transform(df[features])\n",
    "df['상선_Weekday'] = up_weekday_scaler.fit_transform(df['상선_Weekday'].to_frame())\n",
    "df['상선_Saturday'] = up_saturday_scaler.fit_transform(df['상선_Saturday'].to_frame())\n",
    "df['상선_Sunday'] = up_sunday_scaler.fit_transform(df['상선_Sunday'].to_frame())\n",
    "df['하선_Weekday'] = down_weekday_scaler.fit_transform(df['하선_Weekday'].to_frame())\n",
    "df['하선_Saturday'] = down_saturday_scaler.fit_transform(df['하선_Saturday'].to_frame())\n",
    "df['하선_Sunday'] = down_sunday_scaler.fit_transform(df['하선_Sunday'].to_frame())\n",
    "\n",
    "df.to_csv('2022_scaled.csv', index=False, encoding='cp949')"
   ]
  },
  {
   "cell_type": "code",
   "execution_count": 7,
   "id": "dd845083",
   "metadata": {
    "scrolled": true
   },
   "outputs": [],
   "source": [
    "weekday_up = ['역번호', '승차_Weekday', '하차_Weekday', '환승_Weekday', 'interval_Weekday', 'capacity', '상선_Weekday']\n",
    "weekday_down = ['역번호', '승차_Weekday', '하차_Weekday', '환승_Weekday', 'interval_Weekday', 'capacity', '하선_Weekday']\n",
    "weekday_up2 = ['승차_Weekday', '하차_Weekday', '환승_Weekday', 'interval_Weekday', 'capacity', '상선_Weekday']\n",
    "weekday_down2 = ['승차_Weekday', '하차_Weekday', '환승_Weekday', 'interval_Weekday', 'capacity', '하선_Weekday']\n",
    "hours = ['06-07시간대', '07-08시간대', '08-09시간대', '09-10시간대', '10-11시간대', '11-12시간대', '12-13시간대', '13-14시간대', '14-15시간대', '15-16시간대', '16-17시간대', '17-18시간대', '18-19시간대', '19-20시간대', '20-21시간대', '21-22시간대', '22-23시간대', '23-24시간대']\n",
    "\n",
    "for line in range(2,9):\n",
    "    for period in hours:\n",
    "        tmp = df.loc[df['호선'] == line]\n",
    "        tmp = tmp[weekday_up]\n",
    "        tmp2 = tmp.loc[df['hour'] == period]\n",
    "        tmp2 = tmp2.sort_values(by='역번호', axis=0, ascending=False, inplace=False)\n",
    "        tmp3 = tmp2[weekday_up2]\n",
    "        pd.DataFrame(tmp3).to_csv(f'weekday_split\\\\{line}_{period}_up.csv', index=False, encoding='cp949')\n",
    "\n",
    "    for period in hours:\n",
    "        tmp = df.loc[df['호선'] == line]\n",
    "        tmp = tmp[weekday_down]\n",
    "        tmp2 = tmp.loc[df['hour'] == period]\n",
    "        tmp2 = tmp2.sort_values(by='역번호', axis=0, ascending=True, inplace=False)\n",
    "        tmp3 = tmp2[weekday_down2]\n",
    "        pd.DataFrame(tmp3).to_csv(f'weekday_split\\\\{line}_{period}_down.csv', index=False, encoding='cp949')"
   ]
  },
  {
   "cell_type": "code",
   "execution_count": 8,
   "id": "ac0fd0ce",
   "metadata": {},
   "outputs": [],
   "source": [
    "saturday_up = ['역번호', '승차_Saturday', '하차_Saturday', '환승_Saturday', 'interval_Saturday', 'capacity', '상선_Saturday']\n",
    "saturday_down = ['역번호', '승차_Saturday', '하차_Saturday', '환승_Saturday', 'interval_Saturday', 'capacity', '하선_Saturday']\n",
    "saturday_up2 = ['승차_Saturday', '하차_Saturday', '환승_Saturday', 'interval_Saturday', 'capacity', '상선_Saturday']\n",
    "saturday_down2 = ['승차_Saturday', '하차_Saturday', '환승_Saturday', 'interval_Saturday', 'capacity', '하선_Saturday']\n",
    "\n",
    "for line in range(2,9):\n",
    "    for period in hours:\n",
    "        tmp = df.loc[df['호선'] == line]\n",
    "        tmp = tmp[saturday_up]\n",
    "        tmp2 = tmp.loc[df['hour'] == period]\n",
    "        tmp2 = tmp2.sort_values(by='역번호', axis=0, ascending=True, inplace=False)\n",
    "        tmp3 = tmp2[saturday_up2]\n",
    "        pd.DataFrame(tmp3).to_csv(f'saturday_split\\\\{line}_{period}_up.csv', index=False, encoding='cp949')\n",
    "\n",
    "    for period in hours:\n",
    "        tmp = df.loc[df['호선'] == line]\n",
    "        tmp = tmp[saturday_down]\n",
    "        tmp2 = tmp.loc[df['hour'] == period]\n",
    "        tmp2 = tmp2.sort_values(by='역번호', axis=0, ascending=False, inplace=False)\n",
    "        tmp3 = tmp2[saturday_down2]\n",
    "        pd.DataFrame(tmp3).to_csv(f'saturday_split\\\\{line}_{period}_down.csv', index=False, encoding='cp949')"
   ]
  },
  {
   "cell_type": "code",
   "execution_count": 9,
   "id": "40a63d18",
   "metadata": {},
   "outputs": [],
   "source": [
    "sunday_up = ['역번호', '승차_Sunday', '하차_Sunday', '환승_Sunday', 'interval_Sunday', 'capacity', '상선_Sunday']\n",
    "sunday_down = ['역번호', '승차_Sunday', '하차_Sunday', '환승_Sunday', 'interval_Sunday', 'capacity', '하선_Sunday']\n",
    "sunday_up2 = ['승차_Sunday', '하차_Sunday', '환승_Sunday', 'interval_Sunday', 'capacity', '상선_Sunday']\n",
    "sunday_down2 = ['승차_Sunday', '하차_Sunday', '환승_Sunday', 'interval_Sunday', 'capacity', '하선_Sunday']\n",
    "\n",
    "for line in range(2, 9):\n",
    "    for period in hours:\n",
    "        tmp = df.loc[df['호선'] == line]\n",
    "        tmp = tmp[sunday_up]\n",
    "        tmp2 = tmp.loc[df['hour'] == period]\n",
    "        tmp2 = tmp2.sort_values(by='역번호', axis=0, ascending=True, inplace=False)\n",
    "        tmp3 = tmp2[sunday_up2]\n",
    "        pd.DataFrame(tmp3).to_csv(f'sunday_split\\\\{line}_{period}_up.csv', index=False, encoding='cp949')\n",
    "\n",
    "    for period in hours:\n",
    "        tmp = df.loc[df['호선'] == line]\n",
    "        tmp = tmp[sunday_down]\n",
    "        tmp2 = tmp.loc[df['hour'] == period]\n",
    "        tmp2 = tmp2.sort_values(by='역번호', axis=0, ascending=False, inplace=False)\n",
    "        tmp3 = tmp2[sunday_down2]\n",
    "        pd.DataFrame(tmp3).to_csv(f'sunday_split\\\\{line}_{period}_down.csv', index=False, encoding='cp949')"
   ]
  },
  {
   "cell_type": "code",
   "execution_count": 10,
   "id": "13afb912",
   "metadata": {},
   "outputs": [
    {
     "name": "stdout",
     "output_type": "stream",
     "text": [
      "torch.Size([7452, 6, 6])\n",
      "torch.Size([7452])\n"
     ]
    },
    {
     "name": "stderr",
     "output_type": "stream",
     "text": [
      "C:\\Users\\Kang\\AppData\\Local\\Temp\\ipykernel_30652\\2070906940.py:32: UserWarning: To copy construct from a tensor, it is recommended to use sourceTensor.clone().detach() or sourceTensor.clone().detach().requires_grad_(True), rather than torch.tensor(sourceTensor).\n",
      "  X = torch.tensor(X, dtype=torch.float32)\n"
     ]
    }
   ],
   "source": [
    "import torch.nn as nn\n",
    "from torch.utils.data import Dataset, DataLoader\n",
    "\n",
    "# Assume your time series data is already preprocessed and in the format of PyTorch tensors\n",
    "# Each time series is a 2D tensor of shape (sequence_length, num_features)\n",
    "\n",
    "# Training data (multiple time series)\n",
    "import os\n",
    "# assign directory\n",
    "directory = 'weekday_split'\n",
    "time_series_list = []\n",
    "X = []\n",
    "y = []\n",
    "time_steps = 6\n",
    "\n",
    "for filename in os.listdir(directory):\n",
    "    f = os.path.join(directory, filename)\n",
    "    if os.path.isfile(f):\n",
    "        tmp = pd.read_csv(f, encoding='cp949')\n",
    "        tmp = tmp.astype(float)\n",
    "        tens = torch.from_numpy(tmp.values)\n",
    "        time_series_list.append(tens)\n",
    "\n",
    "for ts in time_series_list:\n",
    "    for i in range(len(ts) - time_steps):\n",
    "        X.append(ts[i:i + time_steps])\n",
    "        y.append(ts[i + time_steps, -1])  # Assuming the last feature is the target\n",
    "\n",
    "y = np.array(y)\n",
    "# Convert to PyTorch tensors\n",
    "X = torch.stack(X, dim=0)\n",
    "X = torch.tensor(X, dtype=torch.float32)\n",
    "y = torch.tensor(y, dtype=torch.float32)\n",
    "print(X.size())\n",
    "print(y.size())"
   ]
  },
  {
   "cell_type": "code",
   "execution_count": 11,
   "id": "9b6e9fb3",
   "metadata": {},
   "outputs": [],
   "source": [
    "class TimeSeriesDataset(Dataset):\n",
    "    def __init__(self, X, y):\n",
    "        self.X = X\n",
    "        self.y = y\n",
    "\n",
    "    def __len__(self):\n",
    "        return len(self.X)\n",
    "\n",
    "    def __getitem__(self, idx):\n",
    "        return self.X[idx], self.y[idx].unsqueeze(-1)\n",
    "\n",
    "dataset = TimeSeriesDataset(X, y)\n",
    "\n",
    "# Split the dataset into training and validation sets\n",
    "train_size = int(0.8 * len(dataset))  # 80% of the data for training\n",
    "val_size = len(dataset) - train_size  # Remaining 20% for validation\n",
    "\n",
    "train_dataset, val_dataset = torch.utils.data.random_split(dataset, [train_size, val_size])\n",
    "\n",
    "train_loader = DataLoader(train_dataset, batch_size=32, shuffle=True)\n",
    "val_loader = DataLoader(val_dataset, batch_size=32, shuffle=False)"
   ]
  },
  {
   "cell_type": "code",
   "execution_count": 12,
   "id": "bd2532f8",
   "metadata": {},
   "outputs": [],
   "source": [
    "import torch.nn as nn\n",
    "import torch.optim as optim\n",
    "\n",
    "class LSTMModel(nn.Module):\n",
    "    def __init__(self, input_size, hidden_size, num_layers, output_size):\n",
    "        super(LSTMModel, self).__init__()\n",
    "        self.lstm = nn.LSTM(input_size, hidden_size, num_layers, batch_first=True)\n",
    "        self.fc = nn.Linear(hidden_size, output_size)\n",
    "    \n",
    "    def forward(self, x):\n",
    "        h_0 = torch.zeros(num_layers, x.size(0), hidden_size).to(x.device)\n",
    "        c_0 = torch.zeros(num_layers, x.size(0), hidden_size).to(x.device)\n",
    "        \n",
    "        out, _ = self.lstm(x, (h_0, c_0))\n",
    "        out = self.fc(out[:, -1, :])\n",
    "        return out\n",
    "\n",
    "input_size = X.shape[2]  # Number of features in the input data\n",
    "hidden_size = 50         # Number of features in the hidden state\n",
    "num_layers = 2           # Number of stacked LSTM layers\n",
    "output_size = 1          # Number of output features (1 target feature)\n",
    "\n",
    "model = LSTMModel(input_size, hidden_size, num_layers, output_size).to(device)\n",
    "criterion = nn.MSELoss()\n",
    "optimizer = optim.Adam(model.parameters(), lr=0.001)"
   ]
  },
  {
   "cell_type": "code",
   "execution_count": 13,
   "id": "83e3f13f",
   "metadata": {
    "scrolled": true
   },
   "outputs": [
    {
     "name": "stdout",
     "output_type": "stream",
     "text": [
      "Epoch [1/30], Loss: 0.0037, Val Loss: 0.0054\n",
      "Epoch [2/30], Loss: 0.0020, Val Loss: 0.0028\n",
      "Epoch [3/30], Loss: 0.0194, Val Loss: 0.0027\n",
      "Epoch [4/30], Loss: 0.0007, Val Loss: 0.0015\n",
      "Epoch [5/30], Loss: 0.0007, Val Loss: 0.0020\n",
      "Epoch [6/30], Loss: 0.0005, Val Loss: 0.0019\n",
      "Epoch [7/30], Loss: 0.0005, Val Loss: 0.0015\n",
      "Epoch [8/30], Loss: 0.0008, Val Loss: 0.0014\n",
      "Epoch [9/30], Loss: 0.0029, Val Loss: 0.0023\n",
      "Epoch [10/30], Loss: 0.0005, Val Loss: 0.0015\n",
      "Epoch [11/30], Loss: 0.0006, Val Loss: 0.0015\n",
      "Epoch [12/30], Loss: 0.0019, Val Loss: 0.0014\n",
      "Epoch [13/30], Loss: 0.0009, Val Loss: 0.0013\n",
      "Epoch [14/30], Loss: 0.0041, Val Loss: 0.0014\n",
      "Epoch [15/30], Loss: 0.0013, Val Loss: 0.0015\n",
      "Epoch [16/30], Loss: 0.0007, Val Loss: 0.0018\n",
      "Epoch [17/30], Loss: 0.0021, Val Loss: 0.0014\n",
      "Epoch [18/30], Loss: 0.0048, Val Loss: 0.0018\n",
      "Epoch [19/30], Loss: 0.0006, Val Loss: 0.0014\n",
      "Epoch [20/30], Loss: 0.0013, Val Loss: 0.0014\n",
      "Epoch [21/30], Loss: 0.0003, Val Loss: 0.0014\n",
      "Epoch [22/30], Loss: 0.0009, Val Loss: 0.0014\n",
      "Epoch [23/30], Loss: 0.0006, Val Loss: 0.0015\n",
      "Epoch [24/30], Loss: 0.0007, Val Loss: 0.0014\n",
      "Epoch [25/30], Loss: 0.0037, Val Loss: 0.0015\n",
      "Epoch [26/30], Loss: 0.0004, Val Loss: 0.0014\n",
      "Epoch [27/30], Loss: 0.0017, Val Loss: 0.0014\n",
      "Epoch [28/30], Loss: 0.0009, Val Loss: 0.0015\n",
      "Epoch [29/30], Loss: 0.0010, Val Loss: 0.0016\n",
      "Epoch [30/30], Loss: 0.0012, Val Loss: 0.0017\n"
     ]
    }
   ],
   "source": [
    "# Training loop\n",
    "num_epochs = 30\n",
    "for epoch in range(num_epochs):\n",
    "    model.train()\n",
    "    for inputs, targets in train_loader:\n",
    "        inputs, targets = inputs.to(device), targets.to(device)\n",
    "        \n",
    "        outputs = model(inputs)\n",
    "        loss = criterion(outputs, targets)\n",
    "        \n",
    "        optimizer.zero_grad()\n",
    "        loss.backward()\n",
    "        optimizer.step()\n",
    "    \n",
    "    # Validation\n",
    "    model.eval()\n",
    "    val_loss = 0\n",
    "    with torch.no_grad():\n",
    "        for inputs, targets in val_loader:\n",
    "            inputs, targets = inputs.to(device), targets.to(device)\n",
    "            outputs = model(inputs)\n",
    "            val_loss += criterion(outputs, targets).item()\n",
    "    \n",
    "    val_loss /= len(val_loader)\n",
    "    print(f'Epoch [{epoch+1}/{num_epochs}], Loss: {loss.item():.4f}, Val Loss: {val_loss:.4f}')"
   ]
  },
  {
   "cell_type": "code",
   "execution_count": 20,
   "id": "715f9ea6",
   "metadata": {},
   "outputs": [],
   "source": [
    "scaled_new_ts = pd.read_csv(\"saturday_split\\\\5_16-17시간대_down.csv\", encoding='cp949')\n",
    "scaled_new_ts = scaled_new_ts.to_numpy()"
   ]
  },
  {
   "cell_type": "code",
   "execution_count": 21,
   "id": "a2268951",
   "metadata": {},
   "outputs": [],
   "source": [
    "# New time series for testing\n",
    "\n",
    "X_test, y_test = [], []\n",
    "for i in range(len(scaled_new_ts) - time_steps):\n",
    "    X_test.append(scaled_new_ts[i:i + time_steps])\n",
    "    y_test.append(scaled_new_ts[i + time_steps, -1])  # Assuming the last feature is the target\n",
    "\n",
    "X_test, y_test = np.array(X_test), np.array(y_test)\n",
    "X_test_no_target = X_test[:, :, :-1]  # Remove the last feature (target feature)\n",
    "X_test = torch.tensor(X_test, dtype=torch.float32)\n",
    "y_test = torch.tensor(y_test, dtype=torch.float32)"
   ]
  },
  {
   "cell_type": "code",
   "execution_count": 24,
   "id": "5527bd7e",
   "metadata": {},
   "outputs": [
    {
     "name": "stdout",
     "output_type": "stream",
     "text": [
      "torch.Size([28, 6, 6])\n",
      "torch.Size([28])\n"
     ]
    }
   ],
   "source": [
    "print(X_test.shape)\n",
    "print(y_test.shape)"
   ]
  },
  {
   "cell_type": "code",
   "execution_count": 25,
   "id": "82c549b7",
   "metadata": {},
   "outputs": [
    {
     "name": "stdout",
     "output_type": "stream",
     "text": [
      "Predicted values: [[11.591464]\n",
      " [11.907893]\n",
      " [11.517597]\n",
      " [13.22342 ]\n",
      " [17.240028]\n",
      " [16.698448]\n",
      " [24.83485 ]\n",
      " [33.78176 ]\n",
      " [40.571175]\n",
      " [40.056282]\n",
      " [36.85581 ]\n",
      " [45.38391 ]\n",
      " [48.810307]\n",
      " [42.35717 ]\n",
      " [42.89647 ]\n",
      " [34.227184]\n",
      " [35.76146 ]\n",
      " [35.656963]\n",
      " [41.241146]\n",
      " [53.608597]\n",
      " [51.50869 ]\n",
      " [48.709393]\n",
      " [47.466076]\n",
      " [44.050095]\n",
      " [39.247684]\n",
      " [35.60598 ]\n",
      " [30.010088]\n",
      " [28.311016]]\n",
      "Actual values: [[13.049999]\n",
      " [13.049999]\n",
      " [14.3     ]\n",
      " [17.8     ]\n",
      " [18.65    ]\n",
      " [25.400002]\n",
      " [32.35    ]\n",
      " [43.15    ]\n",
      " [40.2     ]\n",
      " [39.55    ]\n",
      " [47.75    ]\n",
      " [50.3     ]\n",
      " [45.5     ]\n",
      " [45.300003]\n",
      " [38.65    ]\n",
      " [40.3     ]\n",
      " [39.3     ]\n",
      " [45.75    ]\n",
      " [59.05    ]\n",
      " [57.899998]\n",
      " [51.55    ]\n",
      " [49.6     ]\n",
      " [48.600002]\n",
      " [44.25    ]\n",
      " [40.7     ]\n",
      " [34.      ]\n",
      " [32.149998]\n",
      " [46.45    ]]\n"
     ]
    }
   ],
   "source": [
    "# Initialize the placeholder for predictions\n",
    "predictions = np.zeros((X_test_no_target.shape[0], X_test_no_target.shape[1]))\n",
    "model.eval()  # Set the model to evaluation mode\n",
    "\n",
    "with torch.no_grad():\n",
    "    for t in range(X_test_no_target.shape[1]):\n",
    "        # Prepare the input for the model\n",
    "        X_input = X_test_no_target[:, :t+1, :]  # Inputs up to the current time step\n",
    "        \n",
    "        # Convert to tensor\n",
    "        X_input_tensor = torch.tensor(X_input, dtype=torch.float32).to(device)\n",
    "        \n",
    "        # Predict the target feature\n",
    "        y_pred = model(X_input_tensor)\n",
    "        \n",
    "        # Update the placeholder with the predictions\n",
    "        predictions[:, t] = y_pred[:, -1].cpu().numpy()\n",
    "        \n",
    "        # Update the input with the predicted target feature for the next step\n",
    "        if t < X_test_no_target.shape[1] - 1:\n",
    "            X_test_no_target[:, t+1, -1] = y_pred[:, -1].cpu().numpy()\n",
    "\n",
    "\n",
    "predicted = predicted.squeeze()\n",
    "predicted = np.reshape(predicted, (-1,1))\n",
    "predicted = down_saturday_scaler.inverse_transform(predicted)  #switch scaler as needed\n",
    "actual = np.reshape(y_test, (-1,1))\n",
    "actual = down_saturday_scaler.inverse_transform(actual)\n",
    "    \n",
    "# Print the final prediction values of the last feature (target feature)\n",
    "print(\"Predicted values:\", predicted)  # Remove the extra dimension for readability\n",
    "print(\"Actual values:\", actual)"
   ]
  },
  {
   "cell_type": "code",
   "execution_count": 26,
   "id": "6080d68a",
   "metadata": {
    "scrolled": true
   },
   "outputs": [
    {
     "data": {
      "image/png": "[encoded data removed]",
      "text/plain": [
       "<Figure size 1200x600 with 1 Axes>"
      ]
     },
     "metadata": {},
     "output_type": "display_data"
    }
   ],
   "source": [
    "import matplotlib.pyplot as plt\n",
    "\n",
    "plt.figure(figsize=(12, 6))\n",
    "plt.plot(actual, label='Actual')\n",
    "plt.plot(predicted, label='Predicted')\n",
    "plt.title('Actual vs Predicted Values')\n",
    "plt.xlabel('Time Step')\n",
    "plt.ylabel('Value')\n",
    "plt.legend()\n",
    "plt.show()"
   ]
  },
  {
   "cell_type": "code",
   "execution_count": null,
   "id": "e129674b",
   "metadata": {},
   "outputs": [],
   "source": []
  }
 ],
 "metadata": {
  "kernelspec": {
   "display_name": "subway",
   "language": "python",
   "name": "subway"
  },
  "language_info": {
   "codemirror_mode": {
    "name": "ipython",
    "version": 3
   },
   "file_extension": ".py",
   "mimetype": "text/x-python",
   "name": "python",
   "nbconvert_exporter": "python",
   "pygments_lexer": "ipython3",
   "version": "3.10.14"
  }
 },
 "nbformat": 4,
 "nbformat_minor": 5
}
