{
 "cells": [
  {
   "cell_type": "code",
   "execution_count": 1,
   "id": "59e82865",
   "metadata": {},
   "outputs": [],
   "source": [
    "import numpy as np\n",
    "import pandas as pd"
   ]
  },
  {
   "cell_type": "code",
   "execution_count": 2,
   "id": "f9d66a38",
   "metadata": {},
   "outputs": [
    {
     "name": "stdout",
     "output_type": "stream",
     "text": [
      "cuda\n"
     ]
    }
   ],
   "source": [
    "import torch\n",
    "if torch.cuda.is_available():\n",
    "    device = \"cuda\"\n",
    "elif torch.backends.mps.is_available():\n",
    "    device = \"mps\"\n",
    "else:\n",
    "    device = \"cpu\"\n",
    "print(device)"
   ]
  },
  {
   "cell_type": "code",
   "execution_count": 3,
   "id": "ef9490c8",
   "metadata": {},
   "outputs": [
    {
     "name": "stdout",
     "output_type": "stream",
     "text": [
      "NVIDIA GeForce RTX 4070 Laptop GPU\n"
     ]
    }
   ],
   "source": [
    "#check gpu device (if using gpu)\n",
    "print(torch.cuda.get_device_name(0))"
   ]
  },
  {
   "cell_type": "code",
   "execution_count": 4,
   "id": "29a0c44a",
   "metadata": {},
   "outputs": [],
   "source": [
    "df = pd.read_csv(\"2022_final.csv\", encoding='cp949')\n",
    "stations_to_remove = df[(df['역번호'] > 1000) | (df['역번호'] < 199)].index\n",
    "df.drop(stations_to_remove, inplace=True)"
   ]
  },
  {
   "cell_type": "code",
   "execution_count": 5,
   "id": "487dbd09",
   "metadata": {},
   "outputs": [],
   "source": [
    "from sklearn.preprocessing import MinMaxScaler\n",
    "\n",
    "feature_scaler = MinMaxScaler(feature_range=(0, 1))\n",
    "up_weekday_scaler = MinMaxScaler(feature_range=(0, 1))\n",
    "up_saturday_scaler = MinMaxScaler(feature_range=(0, 1))\n",
    "up_sunday_scaler = MinMaxScaler(feature_range=(0, 1))\n",
    "down_weekday_scaler = MinMaxScaler(feature_range=(0, 1))\n",
    "down_saturday_scaler = MinMaxScaler(feature_range=(0, 1))\n",
    "down_sunday_scaler = MinMaxScaler(feature_range=(0, 1))\n",
    "\n",
    "features = ['승차_Weekday', '승차_Saturday', '승차_Sunday', '하차_Weekday', '하차_Saturday', '하차_Sunday', '환승_Weekday', '환승_Saturday', '환승_Sunday', 'interval_Weekday', 'interval_Saturday', 'interval_Sunday', 'capacity']\n",
    "\n",
    "df[features] = feature_scaler.fit_transform(df[features])\n",
    "df['상선_Weekday'] = up_weekday_scaler.fit_transform(df['상선_Weekday'].to_frame())\n",
    "df['상선_Saturday'] = up_saturday_scaler.fit_transform(df['상선_Saturday'].to_frame())\n",
    "df['상선_Sunday'] = up_sunday_scaler.fit_transform(df['상선_Sunday'].to_frame())\n",
    "df['하선_Weekday'] = down_weekday_scaler.fit_transform(df['하선_Weekday'].to_frame())\n",
    "df['하선_Saturday'] = down_saturday_scaler.fit_transform(df['하선_Saturday'].to_frame())\n",
    "df['하선_Sunday'] = down_sunday_scaler.fit_transform(df['하선_Sunday'].to_frame())\n",
    "\n",
    "df.to_csv('2022_scaled.csv', index=False, encoding='cp949')"
   ]
  },
  {
   "cell_type": "code",
   "execution_count": 6,
   "id": "dd845083",
   "metadata": {
    "scrolled": true
   },
   "outputs": [],
   "source": [
    "weekday_up = ['역번호', '승차_Weekday', '하차_Weekday', '환승_Weekday', 'interval_Weekday', 'capacity', '상선_Weekday']\n",
    "weekday_down = ['역번호', '승차_Weekday', '하차_Weekday', '환승_Weekday', 'interval_Weekday', 'capacity', '하선_Weekday']\n",
    "weekday_up2 = ['승차_Weekday', '하차_Weekday', '환승_Weekday', 'interval_Weekday', 'capacity', '상선_Weekday']\n",
    "weekday_down2 = ['승차_Weekday', '하차_Weekday', '환승_Weekday', 'interval_Weekday', 'capacity', '하선_Weekday']\n",
    "hours = ['06-07시간대', '07-08시간대', '08-09시간대', '09-10시간대', '10-11시간대', '11-12시간대', '12-13시간대', '13-14시간대', '14-15시간대', '15-16시간대', '16-17시간대', '17-18시간대', '18-19시간대', '19-20시간대', '20-21시간대', '21-22시간대', '22-23시간대', '23-24시간대']\n",
    "\n",
    "for line in range(2,9):\n",
    "    for period in hours:\n",
    "        tmp = df.loc[df['호선'] == line]\n",
    "        tmp = tmp[weekday_up]\n",
    "        tmp2 = tmp.loc[df['hour'] == period]\n",
    "        tmp2 = tmp2.sort_values(by='역번호', axis=0, ascending=False, inplace=False)\n",
    "        tmp3 = tmp2[weekday_up2]\n",
    "        pd.DataFrame(tmp3).to_csv(f'weekday_split\\\\{line}_{period}_up.csv', index=False, encoding='cp949')\n",
    "\n",
    "    for period in hours:\n",
    "        tmp = df.loc[df['호선'] == line]\n",
    "        tmp = tmp[weekday_down]\n",
    "        tmp2 = tmp.loc[df['hour'] == period]\n",
    "        tmp2 = tmp2.sort_values(by='역번호', axis=0, ascending=True, inplace=False)\n",
    "        tmp3 = tmp2[weekday_down2]\n",
    "        pd.DataFrame(tmp3).to_csv(f'weekday_split\\\\{line}_{period}_down.csv', index=False, encoding='cp949')"
   ]
  },
  {
   "cell_type": "code",
   "execution_count": 7,
   "id": "ac0fd0ce",
   "metadata": {},
   "outputs": [],
   "source": [
    "saturday_up = ['역번호', '승차_Saturday', '하차_Saturday', '환승_Saturday', 'interval_Saturday', 'capacity', '상선_Saturday']\n",
    "saturday_down = ['역번호', '승차_Saturday', '하차_Saturday', '환승_Saturday', 'interval_Saturday', 'capacity', '하선_Saturday']\n",
    "saturday_up2 = ['승차_Saturday', '하차_Saturday', '환승_Saturday', 'interval_Saturday', 'capacity', '상선_Saturday']\n",
    "saturday_down2 = ['승차_Saturday', '하차_Saturday', '환승_Saturday', 'interval_Saturday', 'capacity', '하선_Saturday']\n",
    "\n",
    "for line in range(2,9):\n",
    "    for period in hours:\n",
    "        tmp = df.loc[df['호선'] == line]\n",
    "        tmp = tmp[saturday_up]\n",
    "        tmp2 = tmp.loc[df['hour'] == period]\n",
    "        tmp2 = tmp2.sort_values(by='역번호', axis=0, ascending=True, inplace=False)\n",
    "        tmp3 = tmp2[saturday_up2]\n",
    "        pd.DataFrame(tmp3).to_csv(f'saturday_split\\\\{line}_{period}_up.csv', index=False, encoding='cp949')\n",
    "\n",
    "    for period in hours:\n",
    "        tmp = df.loc[df['호선'] == line]\n",
    "        tmp = tmp[saturday_down]\n",
    "        tmp2 = tmp.loc[df['hour'] == period]\n",
    "        tmp2 = tmp2.sort_values(by='역번호', axis=0, ascending=False, inplace=False)\n",
    "        tmp3 = tmp2[saturday_down2]\n",
    "        pd.DataFrame(tmp3).to_csv(f'saturday_split\\\\{line}_{period}_down.csv', index=False, encoding='cp949')"
   ]
  },
  {
   "cell_type": "code",
   "execution_count": 8,
   "id": "40a63d18",
   "metadata": {},
   "outputs": [],
   "source": [
    "sunday_up = ['역번호', '승차_Sunday', '하차_Sunday', '환승_Sunday', 'interval_Sunday', 'capacity', '상선_Sunday']\n",
    "sunday_down = ['역번호', '승차_Sunday', '하차_Sunday', '환승_Sunday', 'interval_Sunday', 'capacity', '하선_Sunday']\n",
    "sunday_up2 = ['승차_Sunday', '하차_Sunday', '환승_Sunday', 'interval_Sunday', 'capacity', '상선_Sunday']\n",
    "sunday_down2 = ['승차_Sunday', '하차_Sunday', '환승_Sunday', 'interval_Sunday', 'capacity', '하선_Sunday']\n",
    "\n",
    "for line in range(2, 9):\n",
    "    for period in hours:\n",
    "        tmp = df.loc[df['호선'] == line]\n",
    "        tmp = tmp[sunday_up]\n",
    "        tmp2 = tmp.loc[df['hour'] == period]\n",
    "        tmp2 = tmp2.sort_values(by='역번호', axis=0, ascending=True, inplace=False)\n",
    "        tmp3 = tmp2[sunday_up2]\n",
    "        pd.DataFrame(tmp3).to_csv(f'sunday_split\\\\{line}_{period}_up.csv', index=False, encoding='cp949')\n",
    "\n",
    "    for period in hours:\n",
    "        tmp = df.loc[df['호선'] == line]\n",
    "        tmp = tmp[sunday_down]\n",
    "        tmp2 = tmp.loc[df['hour'] == period]\n",
    "        tmp2 = tmp2.sort_values(by='역번호', axis=0, ascending=False, inplace=False)\n",
    "        tmp3 = tmp2[sunday_down2]\n",
    "        pd.DataFrame(tmp3).to_csv(f'sunday_split\\\\{line}_{period}_down.csv', index=False, encoding='cp949')"
   ]
  },
  {
   "cell_type": "code",
   "execution_count": 3,
   "id": "13afb912",
   "metadata": {},
   "outputs": [
    {
     "name": "stdout",
     "output_type": "stream",
     "text": [
      "torch.Size([6948, 8, 6])\n",
      "torch.Size([6948])\n"
     ]
    },
    {
     "name": "stderr",
     "output_type": "stream",
     "text": [
      "C:\\Users\\Kang\\AppData\\Local\\Temp\\ipykernel_2440\\122298653.py:32: UserWarning: To copy construct from a tensor, it is recommended to use sourceTensor.clone().detach() or sourceTensor.clone().detach().requires_grad_(True), rather than torch.tensor(sourceTensor).\n",
      "  X = torch.tensor(X, dtype=torch.float32)\n"
     ]
    }
   ],
   "source": [
    "import torch.nn as nn\n",
    "from torch.utils.data import Dataset, DataLoader\n",
    "\n",
    "# Assume your time series data is already preprocessed and in the format of PyTorch tensors\n",
    "# Each time series is a 2D tensor of shape (sequence_length, num_features)\n",
    "\n",
    "# Training data (multiple time series)\n",
    "import os\n",
    "# assign directory\n",
    "directory = 'weekday_split'\n",
    "time_series_list = []\n",
    "X = []\n",
    "y = []\n",
    "time_steps = 8\n",
    "\n",
    "for filename in os.listdir(directory):\n",
    "    f = os.path.join(directory, filename)\n",
    "    if os.path.isfile(f):\n",
    "        tmp = pd.read_csv(f, encoding='cp949')\n",
    "        tmp = tmp.astype(float)\n",
    "        tens = torch.from_numpy(tmp.values)\n",
    "        time_series_list.append(tens)\n",
    "\n",
    "for ts in time_series_list:\n",
    "    for i in range(len(ts) - time_steps):\n",
    "        X.append(ts[i:i + time_steps])\n",
    "        y.append(ts[i + time_steps, -1])  # Assuming the last feature is the target\n",
    "\n",
    "y = np.array(y)\n",
    "# Convert to PyTorch tensors\n",
    "X = torch.stack(X, dim=0)\n",
    "X = torch.tensor(X, dtype=torch.float32)\n",
    "y = torch.tensor(y, dtype=torch.float32)\n",
    "print(X.size())\n",
    "print(y.size())"
   ]
  },
  {
   "cell_type": "code",
   "execution_count": 4,
   "id": "9b6e9fb3",
   "metadata": {},
   "outputs": [],
   "source": [
    "class TimeSeriesDataset(Dataset):\n",
    "    def __init__(self, X, y):\n",
    "        self.X = X\n",
    "        self.y = y\n",
    "\n",
    "    def __len__(self):\n",
    "        return len(self.X)\n",
    "\n",
    "    def __getitem__(self, idx):\n",
    "        return self.X[idx], self.y[idx].unsqueeze(-1)\n",
    "\n",
    "dataset = TimeSeriesDataset(X, y)\n",
    "\n",
    "# Split the dataset into training and validation sets\n",
    "train_size = int(0.8 * len(dataset))  # 80% of the data for training\n",
    "val_size = len(dataset) - train_size  # Remaining 20% for validation\n",
    "\n",
    "train_dataset, val_dataset = torch.utils.data.random_split(dataset, [train_size, val_size])\n",
    "\n",
    "train_loader = DataLoader(train_dataset, batch_size=32, shuffle=False)\n",
    "val_loader = DataLoader(val_dataset, batch_size=32, shuffle=False)"
   ]
  },
  {
   "cell_type": "code",
   "execution_count": 5,
   "id": "bd2532f8",
   "metadata": {},
   "outputs": [],
   "source": [
    "import torch.nn as nn\n",
    "import torch.optim as optim\n",
    "\n",
    "class LSTMModel(nn.Module):\n",
    "    def __init__(self, input_size, hidden_size, num_layers, output_size):\n",
    "        super(LSTMModel, self).__init__()\n",
    "        self.lstm = nn.LSTM(input_size, hidden_size, num_layers, batch_first=True, dropout=0.2)\n",
    "        self.fc = nn.Linear(hidden_size, output_size)\n",
    "    \n",
    "    def forward(self, x):\n",
    "        h_0 = torch.zeros(num_layers, x.size(0), hidden_size).to(x.device)\n",
    "        c_0 = torch.zeros(num_layers, x.size(0), hidden_size).to(x.device)\n",
    "        \n",
    "        out, _ = self.lstm(x, (h_0, c_0))\n",
    "        out = self.fc(out[:, -1, :])\n",
    "        return out\n",
    "\n",
    "input_size = X.shape[2]  # Number of features in the input data\n",
    "hidden_size = 50         # Number of features in the hidden state\n",
    "num_layers = 6           # Number of stacked LSTM layers\n",
    "output_size = 1          # Number of output features (1 target feature)\n",
    "\n",
    "model = LSTMModel(input_size, hidden_size, num_layers, output_size).to(device)\n",
    "criterion = nn.MSELoss()\n",
    "optimizer = optim.Adam(model.parameters(), lr=0.001)\n",
    "scheduler = optim.lr_scheduler.StepLR(optimizer, step_size=10, gamma=0.1)"
   ]
  },
  {
   "cell_type": "code",
   "execution_count": 6,
   "id": "83e3f13f",
   "metadata": {
    "scrolled": true
   },
   "outputs": [
    {
     "name": "stdout",
     "output_type": "stream",
     "text": [
      "Epoch [1/50], Loss: 0.0046, Val Loss: 0.0135\n",
      "Epoch [2/50], Loss: 0.0056, Val Loss: 0.0055\n",
      "Epoch [3/50], Loss: 0.0036, Val Loss: 0.0036\n",
      "Epoch [4/50], Loss: 0.0021, Val Loss: 0.0019\n",
      "Epoch [5/50], Loss: 0.0026, Val Loss: 0.0021\n",
      "Epoch [6/50], Loss: 0.0020, Val Loss: 0.0018\n",
      "Epoch [7/50], Loss: 0.0021, Val Loss: 0.0015\n",
      "Epoch [8/50], Loss: 0.0018, Val Loss: 0.0017\n",
      "Epoch [9/50], Loss: 0.0020, Val Loss: 0.0016\n",
      "Epoch [10/50], Loss: 0.0021, Val Loss: 0.0017\n",
      "Epoch [11/50], Loss: 0.0014, Val Loss: 0.0014\n",
      "Epoch [12/50], Loss: 0.0016, Val Loss: 0.0014\n",
      "Epoch [13/50], Loss: 0.0017, Val Loss: 0.0014\n",
      "Epoch [14/50], Loss: 0.0018, Val Loss: 0.0014\n",
      "Epoch [15/50], Loss: 0.0017, Val Loss: 0.0014\n",
      "Epoch [16/50], Loss: 0.0015, Val Loss: 0.0014\n",
      "Epoch [17/50], Loss: 0.0015, Val Loss: 0.0014\n",
      "Epoch [18/50], Loss: 0.0019, Val Loss: 0.0014\n",
      "Epoch [19/50], Loss: 0.0018, Val Loss: 0.0014\n",
      "Epoch [20/50], Loss: 0.0013, Val Loss: 0.0014\n",
      "Epoch [21/50], Loss: 0.0016, Val Loss: 0.0014\n",
      "Epoch [22/50], Loss: 0.0017, Val Loss: 0.0014\n",
      "Epoch [23/50], Loss: 0.0015, Val Loss: 0.0014\n",
      "Epoch [24/50], Loss: 0.0014, Val Loss: 0.0014\n",
      "Epoch [25/50], Loss: 0.0017, Val Loss: 0.0014\n",
      "Epoch [26/50], Loss: 0.0015, Val Loss: 0.0014\n",
      "Epoch [27/50], Loss: 0.0015, Val Loss: 0.0014\n",
      "Epoch [28/50], Loss: 0.0013, Val Loss: 0.0014\n",
      "Epoch [29/50], Loss: 0.0018, Val Loss: 0.0014\n",
      "Epoch [30/50], Loss: 0.0013, Val Loss: 0.0014\n",
      "Epoch [31/50], Loss: 0.0015, Val Loss: 0.0014\n",
      "Epoch [32/50], Loss: 0.0018, Val Loss: 0.0014\n",
      "Epoch [33/50], Loss: 0.0016, Val Loss: 0.0014\n",
      "Epoch [34/50], Loss: 0.0013, Val Loss: 0.0014\n",
      "Epoch [35/50], Loss: 0.0019, Val Loss: 0.0014\n",
      "Epoch [36/50], Loss: 0.0014, Val Loss: 0.0014\n",
      "Epoch [37/50], Loss: 0.0018, Val Loss: 0.0014\n",
      "Epoch [38/50], Loss: 0.0017, Val Loss: 0.0014\n",
      "Epoch [39/50], Loss: 0.0014, Val Loss: 0.0014\n",
      "Epoch [40/50], Loss: 0.0016, Val Loss: 0.0014\n",
      "Epoch [41/50], Loss: 0.0015, Val Loss: 0.0014\n",
      "Epoch [42/50], Loss: 0.0015, Val Loss: 0.0014\n",
      "Epoch [43/50], Loss: 0.0016, Val Loss: 0.0014\n",
      "Epoch [44/50], Loss: 0.0016, Val Loss: 0.0014\n",
      "Epoch [45/50], Loss: 0.0015, Val Loss: 0.0014\n",
      "Epoch [46/50], Loss: 0.0016, Val Loss: 0.0014\n",
      "Epoch [47/50], Loss: 0.0015, Val Loss: 0.0014\n",
      "Epoch [48/50], Loss: 0.0014, Val Loss: 0.0014\n",
      "Epoch [49/50], Loss: 0.0014, Val Loss: 0.0014\n",
      "Epoch [50/50], Loss: 0.0017, Val Loss: 0.0014\n"
     ]
    }
   ],
   "source": [
    "num_epochs = 50\n",
    "for epoch in range(num_epochs):\n",
    "    model.train()\n",
    "    for inputs, targets in train_loader:\n",
    "        inputs, targets = inputs.to(device), targets.to(device)\n",
    "        \n",
    "        outputs = model(inputs)\n",
    "        loss = criterion(outputs, targets)\n",
    "        \n",
    "        optimizer.zero_grad()\n",
    "        loss.backward()\n",
    "        optimizer.step()\n",
    "    \n",
    "    scheduler.step()\n",
    "    \n",
    "    # Validation\n",
    "    model.eval()\n",
    "    val_loss = 0\n",
    "    with torch.no_grad():\n",
    "        for inputs, targets in val_loader:\n",
    "            inputs, targets = inputs.to(device), targets.to(device)\n",
    "            outputs = model(inputs)\n",
    "            val_loss += criterion(outputs, targets).item()\n",
    "    \n",
    "    val_loss /= len(val_loader)\n",
    "    print(f'Epoch [{epoch+1}/{num_epochs}], Loss: {loss.item():.4f}, Val Loss: {val_loss:.4f}')"
   ]
  },
  {
   "cell_type": "code",
   "execution_count": 7,
   "id": "715f9ea6",
   "metadata": {},
   "outputs": [
    {
     "name": "stdout",
     "output_type": "stream",
     "text": [
      "(25, 6)\n"
     ]
    }
   ],
   "source": [
    "scaled_new_ts = pd.read_csv(\"saturday_split\\\\4_18-19시간대_down.csv\", encoding='cp949')\n",
    "scaled_new_ts = scaled_new_ts.to_numpy()\n",
    "print(scaled_new_ts.shape)"
   ]
  },
  {
   "cell_type": "code",
   "execution_count": 8,
   "id": "a2268951",
   "metadata": {},
   "outputs": [],
   "source": [
    "# New time series for testing\n",
    "actual = scaled_new_ts[:, -1].copy()\n",
    "scaled_new_ts[time_steps:, -1] = 0.0\n",
    "X_test = scaled_new_ts.copy()\n",
    "# Initialize the placeholder for predictions\n",
    "predictions = []"
   ]
  },
  {
   "cell_type": "code",
   "execution_count": 15,
   "id": "c86715cd",
   "metadata": {},
   "outputs": [
    {
     "data": {
      "text/plain": [
       "'\\nX_test, y_test = [], []\\nfor i in range(len(scaled_new_ts) - time_steps):\\n    X_test.append(scaled_new_ts[i:i + time_steps])\\n    y_test.append(scaled_new_ts[i + time_steps, -1])  # Assuming the last feature is the target\\n\\nX_test, y_test = np.array(X_test), np.array(y_test)\\nX_test = torch.tensor(X_test, dtype=torch.float32)\\ny_test = torch.tensor(y_test, dtype=torch.float32)\\n'"
      ]
     },
     "execution_count": 15,
     "metadata": {},
     "output_type": "execute_result"
    }
   ],
   "source": [
    "\"\"\"\n",
    "X_test, y_test = [], []\n",
    "for i in range(len(scaled_new_ts) - time_steps):\n",
    "    X_test.append(scaled_new_ts[i:i + time_steps])\n",
    "    y_test.append(scaled_new_ts[i + time_steps, -1])  # Assuming the last feature is the target\n",
    "\n",
    "X_test, y_test = np.array(X_test), np.array(y_test)\n",
    "X_test = torch.tensor(X_test, dtype=torch.float32)\n",
    "y_test = torch.tensor(y_test, dtype=torch.float32)\n",
    "\"\"\""
   ]
  },
  {
   "cell_type": "code",
   "execution_count": 11,
   "id": "5527bd7e",
   "metadata": {},
   "outputs": [
    {
     "name": "stdout",
     "output_type": "stream",
     "text": [
      "(43, 6)\n"
     ]
    },
    {
     "ename": "NameError",
     "evalue": "name 'y_test' is not defined",
     "output_type": "error",
     "traceback": [
      "\u001b[1;31m---------------------------------------------------------------------------\u001b[0m",
      "\u001b[1;31mNameError\u001b[0m                                 Traceback (most recent call last)",
      "Cell \u001b[1;32mIn[11], line 2\u001b[0m\n\u001b[0;32m      1\u001b[0m \u001b[38;5;28mprint\u001b[39m(X_test\u001b[38;5;241m.\u001b[39mshape)\n\u001b[1;32m----> 2\u001b[0m \u001b[38;5;28mprint\u001b[39m(\u001b[43my_test\u001b[49m\u001b[38;5;241m.\u001b[39mshape)\n",
      "\u001b[1;31mNameError\u001b[0m: name 'y_test' is not defined"
     ]
    }
   ],
   "source": [
    "print(X_test.shape)\n",
    "print(y_test.shape)"
   ]
  },
  {
   "cell_type": "code",
   "execution_count": 9,
   "id": "82c549b7",
   "metadata": {},
   "outputs": [
    {
     "name": "stdout",
     "output_type": "stream",
     "text": [
      "Predicted values: [0.44455385, 0.41915637, 0.44143957, 0.42821237, 0.42176464, 0.42849824, 0.43741184, 0.42404765, 0.41989505, 0.4076019, 0.40150037, 0.39696622, 0.36268613, 0.34594327, 0.33595926, 0.32220355, 0.3171967, 0.3190081]\n",
      "Actual values: [0.47728614 0.6259587  0.58938053 0.61474926 0.55516224 0.63834808\n",
      " 0.60058997 0.43539823 0.40117994 0.35339233 0.32212389 0.31858407\n",
      " 0.28141593 0.26902655 0.16814159 0.09970501 0.05781711]\n"
     ]
    },
    {
     "name": "stderr",
     "output_type": "stream",
     "text": [
      "C:\\Users\\Kang\\AppData\\Local\\Temp\\ipykernel_2440\\1730375766.py:10: UserWarning: Creating a tensor from a list of numpy.ndarrays is extremely slow. Please consider converting the list to a single numpy.ndarray with numpy.array() before converting to a tensor. (Triggered internally at C:\\cb\\pytorch_1000000000000\\work\\torch\\csrc\\utils\\tensor_new.cpp:277.)\n",
      "  X_input_tensor = torch.tensor(X_input, dtype=torch.float32).to(device)\n"
     ]
    }
   ],
   "source": [
    "# Make predictions\n",
    "model.eval()\n",
    "with torch.no_grad():\n",
    "    for t in range(time_steps, X_test.shape[0]+1):\n",
    "        # Prepare the input for the model\n",
    "        X_input = X_test[t-time_steps:t, :]  # Inputs up to the current time step\n",
    "        X_input = [X_input]\n",
    "        \n",
    "        # Convert to tensor\n",
    "        X_input_tensor = torch.tensor(X_input, dtype=torch.float32).to(device)\n",
    "        \n",
    "        # Predict the target feature\n",
    "        y_pred = model(X_input_tensor)\n",
    "        pred_value = y_pred.cpu().numpy()[0][0]\n",
    "        # Update the placeholder with the predictions\n",
    "        predictions.append(pred_value)\n",
    "        \n",
    "        # Update the input with the predicted target feature for the next step\n",
    "        if (t != X_test.shape[0]):\n",
    "            X_test[t, -1] = pred_value\n",
    "        \n",
    "predicted = predictions\n",
    "actual = actual[time_steps:]\n",
    "#predicted = np.reshape(predicted, (-1,1))\n",
    "#predicted = down_saturday_scaler.inverse_transform(predicted)  #switch scaler as needed\n",
    "#actual = np.reshape(actual, (-1,1))\n",
    "#actual = down_saturday_scaler.inverse_transform(actual)\n",
    "    \n",
    "# Print the final prediction values of the last feature (target feature)\n",
    "print(\"Predicted values:\", predicted)  # Remove the extra dimension for readability\n",
    "print(\"Actual values:\", actual)"
   ]
  },
  {
   "cell_type": "code",
   "execution_count": 10,
   "id": "6080d68a",
   "metadata": {
    "scrolled": true
   },
   "outputs": [
    {
     "data": {
      "image/png": "[encoded data removed]",
      "text/plain": [
       "<Figure size 1200x600 with 1 Axes>"
      ]
     },
     "metadata": {},
     "output_type": "display_data"
    }
   ],
   "source": [
    "import matplotlib.pyplot as plt\n",
    "\n",
    "plt.figure(figsize=(12, 6))\n",
    "plt.plot(actual, label='Actual')\n",
    "plt.plot(predicted, label='Predicted')\n",
    "plt.title('Actual vs Predicted Values')\n",
    "plt.xlabel('Time Step')\n",
    "plt.ylabel('Value')\n",
    "plt.legend()\n",
    "plt.show()"
   ]
  },
  {
   "cell_type": "code",
   "execution_count": null,
   "id": "e129674b",
   "metadata": {},
   "outputs": [],
   "source": []
  }
 ],
 "metadata": {
  "kernelspec": {
   "display_name": "subway",
   "language": "python",
   "name": "subway"
  },
  "language_info": {
   "codemirror_mode": {
    "name": "ipython",
    "version": 3
   },
   "file_extension": ".py",
   "mimetype": "text/x-python",
   "name": "python",
   "nbconvert_exporter": "python",
   "pygments_lexer": "ipython3",
   "version": "3.10.14"
  }
 },
 "nbformat": 4,
 "nbformat_minor": 5
}
