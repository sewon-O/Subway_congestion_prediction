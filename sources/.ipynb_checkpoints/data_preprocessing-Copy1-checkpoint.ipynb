{
 "cells": [
  {
   "cell_type": "code",
   "execution_count": 1,
   "id": "bfce44de",
   "metadata": {},
   "outputs": [],
   "source": [
    "import numpy as np\n",
    "import pandas as pd\n",
    "import matplotlib.pyplot as plt"
   ]
  },
  {
   "cell_type": "code",
   "execution_count": 2,
   "id": "be99bfbb",
   "metadata": {},
   "outputs": [
    {
     "data": {
      "text/plain": [
       "<bound method NDFrame.head of             연번        수송일자  호선   역번호   역명 승하차구분  06시이전  06-07시간대  07-08시간대  \\\n",
       "0            1  2022-01-01   1   150  서울역    승차    120       137       211   \n",
       "1            2  2022-01-01   1   150  서울역    하차    113       560       617   \n",
       "2            3  2022-01-01   1   151   시청    승차     38        66       101   \n",
       "3            4  2022-01-01   1   151   시청    하차     31       195       224   \n",
       "4            5  2022-01-01   1   152   종각    승차     44        71        86   \n",
       "...        ...         ...  ..   ...  ...   ...    ...       ...       ...   \n",
       "199075  199076  2022-12-31   8  2826   수진    하차     16        81        64   \n",
       "199076  199077  2022-12-31   8  2827   모란    승차     66        68        93   \n",
       "199077  199078  2022-12-31   8  2827   모란    하차     13       104        62   \n",
       "199078  199079  2022-12-31   8  2828  남위례    승차     23        60        86   \n",
       "199079  199080  2022-12-31   8  2828  남위례    하차     22        68        77   \n",
       "\n",
       "        08-09시간대  ...  15-16시간대  16-17시간대  17-18시간대  18-19시간대  19-20시간대  \\\n",
       "0            439  ...      1566      1686      1591      1358      1062   \n",
       "1            910  ...      1329      1251      1126       884       764   \n",
       "2            139  ...       474       550       672       528       420   \n",
       "3            380  ...       408       377       354       213       131   \n",
       "4            158  ...       889       964      1024       803       855   \n",
       "...          ...  ...       ...       ...       ...       ...       ...   \n",
       "199075       104  ...       287       235       250       196       210   \n",
       "199076       121  ...       293       263       273       222       144   \n",
       "199077       131  ...       250       264       270       213       207   \n",
       "199078       150  ...       262       260       248       220       134   \n",
       "199079       149  ...       297       323       298       265       240   \n",
       "\n",
       "        20-21시간대  21-22시간대  22-23시간대  23-24시간대  24시이후  \n",
       "0            899      1327       814       234    NaN  \n",
       "1            654       728       416       131    NaN  \n",
       "2            434       491       232        38    NaN  \n",
       "3             98       137        61        24    NaN  \n",
       "4           1099      1209       255        62    NaN  \n",
       "...          ...       ...       ...       ...    ...  \n",
       "199075       162       252       233       114   46.0  \n",
       "199076       156       118       117        56    6.0  \n",
       "199077       169       220       223       129  106.0  \n",
       "199078       157       167       151        73   14.0  \n",
       "199079       175       196       178       118   41.0  \n",
       "\n",
       "[199080 rows x 26 columns]>"
      ]
     },
     "execution_count": 2,
     "metadata": {},
     "output_type": "execute_result"
    }
   ],
   "source": [
    "#load number of embarking/disembarking people of each station of year 2022\n",
    "station = pd.read_csv(\"서울교통공사_역별 일별 시간대별 승하차인원 정보_20221231.csv\", encoding='cp949')\n",
    "station.head"
   ]
  },
  {
   "cell_type": "code",
   "execution_count": 3,
   "id": "0c465559",
   "metadata": {},
   "outputs": [
    {
     "name": "stdout",
     "output_type": "stream",
     "text": [
      "연번            int64\n",
      "수송일자         object\n",
      "호선            int64\n",
      "역번호           int64\n",
      "역명           object\n",
      "승하차구분        object\n",
      "06시이전         int64\n",
      "06-07시간대      int64\n",
      "07-08시간대      int64\n",
      "08-09시간대      int64\n",
      "09-10시간대      int64\n",
      "10-11시간대      int64\n",
      "11-12시간대      int64\n",
      "12-13시간대      int64\n",
      "13-14시간대      int64\n",
      "14-15시간대      int64\n",
      "15-16시간대      int64\n",
      "16-17시간대      int64\n",
      "17-18시간대      int64\n",
      "18-19시간대      int64\n",
      "19-20시간대      int64\n",
      "20-21시간대      int64\n",
      "21-22시간대      int64\n",
      "22-23시간대      int64\n",
      "23-24시간대      int64\n",
      "24시이후       float64\n",
      "dtype: object\n"
     ]
    }
   ],
   "source": [
    "print(station.dtypes)"
   ]
  },
  {
   "cell_type": "code",
   "execution_count": 4,
   "id": "ad3c989e",
   "metadata": {},
   "outputs": [],
   "source": [
    "#병기역명/부역명 제거\n",
    "import re\n",
    "station['역명'] = station['역명'].apply(lambda x: re.sub(r'\\(.*\\)', '', x).strip())\n",
    "#4,7호선 이수역은 역명이 다른 환승역이므로 총신대입구로 통일\n",
    "station['역명'] = station['역명'].replace('이수', '총신대입구')\n",
    "#데이터 없는 7호선 인천교통공사 관할구간 제거 (신내역은 경춘선 승하차량 데이터가 없어서 제거)\n",
    "stations_to_remove = ['까치울', '부천시청', '부평구청', '상동', '신내']\n",
    "incheon = station[station['역명'].isin(stations_to_remove)].index\n",
    "station.drop(incheon, inplace=True)"
   ]
  },
  {
   "cell_type": "code",
   "execution_count": 5,
   "id": "19d18dbf",
   "metadata": {},
   "outputs": [
    {
     "data": {
      "text/plain": [
       "<bound method NDFrame.head of     연번       역명  평일(일평균)    토요일    일요일\n",
       "0    1     가락시장    34322  23568  17202\n",
       "1    2  가산디지털단지    84736  50658  39813\n",
       "2    3       강남    66395  44985  29048\n",
       "3    4     강남구청    58829  37701  23936\n",
       "4    5       강동     4432   3002   2566\n",
       "..  ..      ...      ...    ...    ...\n",
       "68  69      충정로    18694  10667   6945\n",
       "69  70     태릉입구    47743  32676  23308\n",
       "70  71       합정    92750  71774  50080\n",
       "71  72     홍대입구    72096  67304  49510\n",
       "72  73    효창공원앞     7646   5978   4407\n",
       "\n",
       "[73 rows x 5 columns]>"
      ]
     },
     "execution_count": 5,
     "metadata": {},
     "output_type": "execute_result"
    }
   ],
   "source": [
    "#load number of transfering people of year 2022\n",
    "transfer = pd.read_csv(\"서울교통공사_역별요일별환승인원_20221231.csv\", encoding='cp949')\n",
    "transfer.head"
   ]
  },
  {
   "cell_type": "code",
   "execution_count": 6,
   "id": "b6ab228c",
   "metadata": {},
   "outputs": [],
   "source": [
    "# Convert date column to datetime format\n",
    "station['수송일자'] = pd.to_datetime(station['수송일자'])\n",
    "\n",
    "# Extract the day of the week (0=Monday, 1=Tuesday, ..., 6=Sunday)\n",
    "station['day_of_week'] = station['수송일자'].dt.dayofweek\n",
    "\n",
    "# Classify days as 'Weekday', 'Saturday', or 'Sunday'\n",
    "station['day_type'] = station['day_of_week'].apply(lambda x: 'Weekday' if x < 5 else ('Saturday' if x == 5 else 'Sunday'))\n",
    "\n",
    "hours = ['06시이전', '06-07시간대', '07-08시간대', '08-09시간대', '09-10시간대', '10-11시간대','11-12시간대', '12-13시간대', '13-14시간대', '14-15시간대', '15-16시간대', '16-17시간대', '17-18시간대', '18-19시간대', '19-20시간대', '20-21시간대', '21-22시간대', '22-23시간대', '23-24시간대', '24시이후']\n",
    "\n",
    "# Melt the dataframe to have one row per station, hour, and day type\n",
    "melted_df = pd.melt(station, id_vars=['호선', '역번호', '역명', '승하차구분', 'day_type'], \n",
    "                    value_vars = hours,\n",
    "                    var_name='hour', value_name='passenger_count')\n",
    "\n",
    "# Group by station, embark/disembark, hour, and day type to calculate the mean\n",
    "grouped_df = melted_df.groupby(['호선', '역번호', '역명', '승하차구분', 'hour', 'day_type'])['passenger_count'].mean().reset_index()\n",
    "\n",
    "pivot_df = grouped_df.pivot_table(index=['호선', '역번호', '역명', 'hour'], columns=['승하차구분', 'day_type'], values='passenger_count').reset_index()\n",
    "# Convert 'hour' to a categorical type with the specified order\n",
    "pivot_df['hour'] = pd.Categorical(pivot_df['hour'], categories=hours, ordered=True)\n",
    "\n",
    "# Sort by '역번호' and the categorical 'hour' column\n",
    "pivot_df = pivot_df.sort_values(by=['역번호', 'hour']).reset_index(drop=True)"
   ]
  },
  {
   "cell_type": "code",
   "execution_count": 7,
   "id": "e74a4589",
   "metadata": {},
   "outputs": [],
   "source": [
    "pivot_df.columns = pivot_df.columns.map('_'.join)\n",
    "pivot_df.columns = [col.rstrip('_') for col in pivot_df.columns]"
   ]
  },
  {
   "cell_type": "code",
   "execution_count": 8,
   "id": "cf88bfb0",
   "metadata": {
    "scrolled": true
   },
   "outputs": [],
   "source": [
    "#충무로역, 3호선 승하차량이 모두 4호선으로 집계\n",
    "#3호선, 4호선 승하차량 비율\n",
    "rate_3 = 1304648 / 2420033\n",
    "rate_4 = 1115385 / 2420033\n",
    "Chungmuro = pivot_df.loc[(pivot_df['역명'] == '충무로') & (pivot_df['호선'] == 4)]\n",
    "columns = ['승차_Saturday', '승차_Sunday', '승차_Weekday', '하차_Saturday', '하차_Sunday', '하차_Weekday']\n",
    "\n",
    "# Iterate over the filtered rows\n",
    "for idx, row in Chungmuro.iterrows():\n",
    "    for col in columns:\n",
    "        pivot_df.at[idx - 720, col] = row[col] * rate_3\n",
    "    for col in columns:\n",
    "        pivot_df.at[idx, col] = row[col] * rate_4\n",
    "        \n",
    "#연신내역, 6호선 승하차량이 모두 3호선으로 집계\n",
    "rate_3 = 1115385 / 1708420\n",
    "rate_6 = 593035 / 1708420\n",
    "Yeonsinnae = pivot_df.loc[(pivot_df['역명'] == '연신내') & (pivot_df['호선'] == 3)]\n",
    "\n",
    "for idx, row in Yeonsinnae.iterrows():\n",
    "    for col in columns:\n",
    "        pivot_df.at[idx + 2360, col] = row[col] * rate_6\n",
    "    for col in columns:\n",
    "        pivot_df.at[idx, col] = row[col] * rate_3\n",
    "\n",
    "#pivot_df.to_csv('processed_passenger_data.csv', index=False, encoding='cp949')"
   ]
  },
  {
   "cell_type": "code",
   "execution_count": 9,
   "id": "6423ae9e",
   "metadata": {},
   "outputs": [],
   "source": [
    "#일부 환승역 승하차량 보정"
   ]
  },
  {
   "cell_type": "code",
   "execution_count": 10,
   "id": "ca6cec73",
   "metadata": {},
   "outputs": [],
   "source": [
    "station_number = pd.read_csv(\"station_number.csv\", encoding='cp949')"
   ]
  },
  {
   "cell_type": "code",
   "execution_count": 11,
   "id": "c94830fc",
   "metadata": {},
   "outputs": [],
   "source": [
    "#역번호 맞추기\n",
    "pivot_df.drop(columns='역번호', inplace=True)\n",
    "pivot_df = pd.merge(pivot_df, station_number, how='inner', on=['호선','역명'])"
   ]
  },
  {
   "cell_type": "code",
   "execution_count": 12,
   "id": "b050e0aa",
   "metadata": {},
   "outputs": [
    {
     "data": {
      "text/plain": [
       "<bound method NDFrame.head of       호선   역명      hour  승차_Saturday    승차_Sunday   승차_Weekday  하차_Saturday  \\\n",
       "0      1  서울역     06시이전   295.094340   176.576923   320.069231   257.377358   \n",
       "1      1  서울역  06-07시간대   282.528302   192.346154   452.373077  1393.962264   \n",
       "2      1  서울역  07-08시간대   542.245283   315.826923  1566.169231  1565.754717   \n",
       "3      1  서울역  08-09시간대  1244.037736   717.192308  2487.815385  1870.264151   \n",
       "4      1  서울역  09-10시간대  1647.132075  1074.288462  1815.473077  2680.301887   \n",
       "...   ..  ...       ...          ...          ...          ...          ...   \n",
       "5455   8  남위례  20-21시간대   134.283019   108.211538   157.346154   193.226415   \n",
       "5456   8  남위례  21-22시간대   144.000000   114.442308   168.738462   208.603774   \n",
       "5457   8  남위례  22-23시간대   109.754717    76.846154   126.303846   196.377358   \n",
       "5458   8  남위례  23-24시간대    47.547170    30.134615    51.484615   153.169811   \n",
       "5459   8  남위례     24시이후     0.806452     0.400000    22.562092     1.935484   \n",
       "\n",
       "        하차_Sunday   하차_Weekday  역번호  \n",
       "0      136.134615   265.034615  133  \n",
       "1      699.576923  1566.503846  133  \n",
       "2      853.788462  3902.619231  133  \n",
       "3     1088.826923  8341.623077  133  \n",
       "4     1604.211538  5166.323077  133  \n",
       "...           ...          ...  ...  \n",
       "5455   156.480769   271.669231  821  \n",
       "5456   150.076923   273.819231  821  \n",
       "5457   126.403846   244.450000  821  \n",
       "5458    88.230769   151.230769  821  \n",
       "5459     1.166667    72.444444  821  \n",
       "\n",
       "[5460 rows x 10 columns]>"
      ]
     },
     "execution_count": 12,
     "metadata": {},
     "output_type": "execute_result"
    }
   ],
   "source": [
    "#station1 = pd.read_csv(\"processed_passenger_data.csv\", encoding='cp949')\n",
    "station1 = pivot_df.copy()\n",
    "station1.head"
   ]
  },
  {
   "cell_type": "code",
   "execution_count": 13,
   "id": "278a8e12",
   "metadata": {},
   "outputs": [],
   "source": [
    "transfer['역명'] = transfer['역명'].replace('총신대입구(이수)', '총신대입구')\n",
    "transfer.drop(columns='연번', inplace=True)\n",
    "transfer = transfer.rename(columns={'평일(일평균)': '환승_Weekday', '토요일': '환승_Saturday', '일요일': '환승_Sunday'})\n",
    "transfer.drop(transfer[transfer['역명'] == '신내'].index, inplace=True)"
   ]
  },
  {
   "cell_type": "code",
   "execution_count": 14,
   "id": "68333577",
   "metadata": {},
   "outputs": [
    {
     "data": {
      "text/plain": [
       "<bound method NDFrame.head of          역명  환승_Weekday  환승_Saturday  환승_Sunday\n",
       "0      가락시장       34322        23568      17202\n",
       "1   가산디지털단지       84736        50658      39813\n",
       "2        강남       66395        44985      29048\n",
       "3      강남구청       58829        37701      23936\n",
       "4        강동        4432         3002       2566\n",
       "..      ...         ...          ...        ...\n",
       "68      충정로       18694        10667       6945\n",
       "69     태릉입구       47743        32676      23308\n",
       "70       합정       92750        71774      50080\n",
       "71     홍대입구       72096        67304      49510\n",
       "72    효창공원앞        7646         5978       4407\n",
       "\n",
       "[72 rows x 4 columns]>"
      ]
     },
     "execution_count": 14,
     "metadata": {},
     "output_type": "execute_result"
    }
   ],
   "source": [
    "transfer.head"
   ]
  },
  {
   "cell_type": "code",
   "execution_count": 15,
   "id": "69e2c69c",
   "metadata": {},
   "outputs": [],
   "source": [
    "interval = pd.read_csv(\"interval.csv\", encoding='cp949')"
   ]
  },
  {
   "cell_type": "code",
   "execution_count": 16,
   "id": "b9f67b23",
   "metadata": {},
   "outputs": [],
   "source": [
    "station_transfer = pd.merge(station1, transfer, how='outer', on='역명')\n",
    "station_transfer = pd.merge(station_transfer, interval, how='outer', on=['호선', 'hour'])\n",
    "\n",
    "station_transfer['hour'] = pd.Categorical(station_transfer['hour'], categories=hours, ordered=True)\n",
    "station_transfer = station_transfer.sort_values(by=['역번호', 'hour']).reset_index(drop=True)\n",
    "\n",
    "station_transfer['hour'] = station_transfer['hour'].astype(str)\n",
    "\n",
    "station_transfer = station_transfer.fillna(0)\n",
    "\n",
    "#station_transfer.to_csv('join.csv', index=False, encoding='cp949')"
   ]
  },
  {
   "cell_type": "code",
   "execution_count": 17,
   "id": "3d31573f",
   "metadata": {},
   "outputs": [
    {
     "data": {
      "text/plain": [
       "<bound method NDFrame.head of       호선   역명      hour  승차_Saturday   승차_Sunday   승차_Weekday  하차_Saturday  \\\n",
       "0      1  청량리     06시이전   336.603774  156.634615   420.900000   130.415094   \n",
       "1      1  청량리  06-07시간대   311.320755  180.653846   561.634615   708.056604   \n",
       "2      1  청량리  07-08시간대   434.962264  267.173077  1441.042308   450.169811   \n",
       "3      1  청량리  08-09시간대   679.075472  473.769231  1817.142308   755.528302   \n",
       "4      1  청량리  09-10시간대   877.641509  682.846154  1025.796154   989.716981   \n",
       "...   ..  ...       ...          ...         ...          ...          ...   \n",
       "5455   2  신설동  20-21시간대    89.660377   70.711538   103.107692    90.433962   \n",
       "5456   2  신설동  21-22시간대   105.075472   58.038462    96.307692    96.169811   \n",
       "5457   2  신설동  22-23시간대    55.339623   42.384615    62.057692    83.716981   \n",
       "5458   2  신설동  23-24시간대    23.584906   17.423077    25.457692    75.603774   \n",
       "5459   2  신설동     24시이후     3.612903    2.433333     9.111111    20.451613   \n",
       "\n",
       "       하차_Sunday   하차_Weekday   역번호  환승_Weekday  환승_Saturday  환승_Sunday  \\\n",
       "0      45.653846   161.423077   124     22308.0      24994.0    19605.0   \n",
       "1     205.557692   799.700000   124     22308.0      24994.0    19605.0   \n",
       "2     269.519231   621.730769   124     22308.0      24994.0    19605.0   \n",
       "3     414.134615  1332.484615   124     22308.0      24994.0    19605.0   \n",
       "4     577.538462  1146.653846   124     22308.0      24994.0    19605.0   \n",
       "...          ...          ...   ...         ...          ...        ...   \n",
       "5455   82.384615   116.896154  4211     38290.0      29300.0    22481.0   \n",
       "5456   86.538462   108.723077  4211     38290.0      29300.0    22481.0   \n",
       "5457   69.615385    97.288462  4211     38290.0      29300.0    22481.0   \n",
       "5458   56.384615    72.550000  4211     38290.0      29300.0    22481.0   \n",
       "5459   13.666667    44.130719  4211     38290.0      29300.0    22481.0   \n",
       "\n",
       "      interval_Weekday  interval_Saturday  interval_Sunday  capacity  \n",
       "0                  5.0                5.0              5.0      1576  \n",
       "1                  5.0                5.0              5.0      1576  \n",
       "2                  3.0                5.0              5.0      1576  \n",
       "3                  3.0                5.0              5.0      1576  \n",
       "4                  5.0                5.0              5.0      1576  \n",
       "...                ...                ...              ...       ...  \n",
       "5455               5.5                5.5              5.5      1576  \n",
       "5456               5.5                5.5              5.5      1576  \n",
       "5457               5.5                5.5              5.5      1576  \n",
       "5458               5.5                5.5              5.5      1576  \n",
       "5459               5.5                5.5              5.5      1576  \n",
       "\n",
       "[5460 rows x 17 columns]>"
      ]
     },
     "execution_count": 17,
     "metadata": {},
     "output_type": "execute_result"
    }
   ],
   "source": [
    "station_transfer.head"
   ]
  },
  {
   "cell_type": "code",
   "execution_count": 18,
   "id": "efd62be1",
   "metadata": {},
   "outputs": [
    {
     "data": {
      "text/plain": [
       "Index(['호선', '역명', 'hour', '승차_Saturday', '승차_Sunday', '승차_Weekday',\n",
       "       '하차_Saturday', '하차_Sunday', '하차_Weekday', '역번호', '환승_Weekday',\n",
       "       '환승_Saturday', '환승_Sunday', 'interval_Weekday', 'interval_Saturday',\n",
       "       'interval_Sunday', 'capacity'],\n",
       "      dtype='object')"
      ]
     },
     "execution_count": 18,
     "metadata": {},
     "output_type": "execute_result"
    }
   ],
   "source": [
    "station_transfer.columns"
   ]
  },
  {
   "cell_type": "code",
   "execution_count": 19,
   "id": "4d7e9659",
   "metadata": {},
   "outputs": [
    {
     "data": {
      "text/plain": [
       "호선                     int64\n",
       "역명                    object\n",
       "hour                  object\n",
       "승차_Saturday          float64\n",
       "승차_Sunday            float64\n",
       "승차_Weekday           float64\n",
       "하차_Saturday          float64\n",
       "하차_Sunday            float64\n",
       "하차_Weekday           float64\n",
       "역번호                    int64\n",
       "환승_Weekday           float64\n",
       "환승_Saturday          float64\n",
       "환승_Sunday            float64\n",
       "interval_Weekday     float64\n",
       "interval_Saturday    float64\n",
       "interval_Sunday      float64\n",
       "capacity               int64\n",
       "dtype: object"
      ]
     },
     "execution_count": 19,
     "metadata": {},
     "output_type": "execute_result"
    }
   ],
   "source": [
    "station_transfer.dtypes"
   ]
  },
  {
   "cell_type": "code",
   "execution_count": 20,
   "id": "1c55a0a6",
   "metadata": {},
   "outputs": [],
   "source": [
    "new = station_transfer.copy()\n",
    "\n",
    "for station_name in transfer['역명']:\n",
    "    selected = station_transfer.loc[station_transfer['역명'] == station_name]\n",
    "\n",
    "    total_Saturday = selected[['승차_Saturday', '하차_Saturday']].to_numpy().sum()\n",
    "    total_Sunday = selected[['승차_Sunday', '하차_Sunday']].to_numpy().sum()\n",
    "    total_Weekday = selected[['승차_Weekday', '하차_Weekday']].to_numpy().sum()\n",
    "\n",
    "    for idx, row in selected.iterrows():\n",
    "        scaling_Saturday = (row['승차_Saturday'] + row['하차_Saturday']) / total_Saturday\n",
    "        scaling_Sunday = (row['승차_Sunday'] + row['하차_Sunday']) / total_Sunday\n",
    "        scaling_Weekday = (row['승차_Weekday'] + row['하차_Weekday']) / total_Weekday\n",
    "    \n",
    "        new.at[idx, '환승_Saturday'] = row['환승_Saturday'] * scaling_Saturday\n",
    "        new.at[idx, '환승_Sunday'] = row['환승_Sunday'] * scaling_Sunday\n",
    "        new.at[idx, '환승_Weekday'] = row['환승_Weekday'] * scaling_Weekday\n",
    "\n",
    "new.to_csv('join2.csv', index=False, encoding='cp949')"
   ]
  },
  {
   "cell_type": "code",
   "execution_count": 21,
   "id": "c092c649",
   "metadata": {
    "scrolled": true
   },
   "outputs": [
    {
     "data": {
      "text/plain": [
       "<bound method NDFrame.head of         연번 요일구분  호선   역번호  출발역 상하구분  5시30분  6시00분  6시30분  7시00분  ...  20시00분  \\\n",
       "0        1   평일   1   150  서울역   상선    7.3   18.1   18.1   30.9  ...    15.6   \n",
       "1        2   평일   1   150  서울역   하선   11.5   11.0   13.2   21.4  ...    35.3   \n",
       "2        3   평일   1   151   시청   상선    6.6   15.4   14.7   25.0  ...    19.1   \n",
       "3        4   평일   1   151   시청   하선    9.0    9.1   14.6   20.0  ...    30.5   \n",
       "4        5   평일   1   152   종각   상선    6.3   14.4   10.7   17.6  ...    26.8   \n",
       "...    ...  ...  ..   ...  ...  ...    ...    ...    ...    ...  ...     ...   \n",
       "1653  1654  공휴일   8  2827   모란   하선    0.0    0.0    0.0    0.0  ...     0.0   \n",
       "1654  1655  공휴일   8  2828  남위례   상선    9.9    5.8    6.6    8.1  ...     7.3   \n",
       "1655  1656  공휴일   8  2828  남위례   하선    2.1    3.0    3.7    3.0  ...    17.1   \n",
       "1656  1657  공휴일   8  2828  남위례   상선    9.9    5.8    6.6    8.1  ...     7.3   \n",
       "1657  1658  공휴일   8  2828  남위례   하선    2.1    3.0    3.7    3.0  ...    17.1   \n",
       "\n",
       "      20시30분  21시00분  21시30분  22시00분  22시30분  23시00분  23시30분  00시00분  00시30분  \n",
       "0       17.1    17.7    14.9    13.7    17.2    10.4     8.8     8.8     1.2  \n",
       "1       36.1    35.0    29.4    39.2    26.1    17.1    11.8     8.5     0.0  \n",
       "2       20.7    21.8    17.5    18.5    18.4    14.9    11.5     7.0     2.8  \n",
       "3       32.4    31.1    28.5    30.2    22.2    15.4    10.1     6.5     0.8  \n",
       "4       25.2    29.7    22.6    26.1    24.0    19.7    14.6     9.6     4.2  \n",
       "...      ...     ...     ...     ...     ...     ...     ...     ...     ...  \n",
       "1653     0.0     0.0     0.0     0.0     0.0     0.0     0.0     NaN     NaN  \n",
       "1654     6.1     7.5     6.5     5.0     4.2     3.5     2.0     NaN     NaN  \n",
       "1655    16.6    22.8    19.0    18.8    14.8    15.7    10.0     NaN     NaN  \n",
       "1656     6.1     7.5     6.5     5.0     4.2     3.5     2.0     NaN     NaN  \n",
       "1657    16.6    22.8    19.0    18.8    14.8    15.7    10.0     NaN     NaN  \n",
       "\n",
       "[1658 rows x 45 columns]>"
      ]
     },
     "execution_count": 21,
     "metadata": {},
     "output_type": "execute_result"
    }
   ],
   "source": [
    "#load congestion rate of year 2022\n",
    "congestion = pd.read_csv(\"서울교통공사_지하철혼잡도정보_20221231.csv\", encoding='cp949')\n",
    "congestion.head"
   ]
  },
  {
   "cell_type": "code",
   "execution_count": 22,
   "id": "29cae061",
   "metadata": {},
   "outputs": [],
   "source": [
    "stations_to_remove = ['진접', '오남', '별내별가람', '신내']\n",
    "remove_index = congestion[congestion['출발역'].isin(stations_to_remove)].index\n",
    "congestion.drop(remove_index, inplace=True)\n",
    "congestion[\"상하구분\"] = congestion[\"상하구분\"].replace(\"내선\", \"하선\")\n",
    "congestion[\"상하구분\"] = congestion[\"상하구분\"].replace(\"외선\", \"상선\")\n",
    "congestion[\"출발역\"] = congestion[\"출발역\"].replace(\"신촌(지하)\", \"신촌\")\n",
    "congestion[\"출발역\"] = congestion[\"출발역\"].replace(\"신천\", \"잠실새내\")\n",
    "congestion[\"출발역\"] = congestion[\"출발역\"].replace(\"올림픽공원(한국체대)\", \"올림픽공원\")"
   ]
  },
  {
   "cell_type": "code",
   "execution_count": 23,
   "id": "fd93e869",
   "metadata": {},
   "outputs": [],
   "source": [
    "congestion1 = congestion.copy()\n",
    "time = ['5시30분', '6시00분', '6시30분', '7시00분', '7시30분', '8시00분', '8시30분', '9시00분', '9시30분', '10시00분', '10시30분', '11시00분', '11시30분', '12시00분', '12시30분', '13시00분', '13시30분', '14시00분', '14시30분', '15시00분', '15시30분', '16시00분', '16시30분', '17시00분', '17시30분', '18시00분', '18시30분', '19시00분', '19시30분', '20시00분', '20시30분', '21시00분', '21시30분', '22시00분', '22시30분', '23시00분', '23시30분', '00시00분', '00시30분']\n",
    "hours = ['06시이전', '06-07시간대', '07-08시간대', '08-09시간대', '09-10시간대', '10-11시간대','11-12시간대', '12-13시간대', '13-14시간대', '14-15시간대', '15-16시간대', '16-17시간대', '17-18시간대', '18-19시간대', '19-20시간대', '20-21시간대', '21-22시간대', '22-23시간대', '23-24시간대', '24시이후']\n",
    "congestion1.drop(columns=time, inplace=True)\n",
    "congestion1.drop(columns='연번', inplace=True)\n",
    "for hour in hours:\n",
    "    congestion1[hour] = pd.Series(dtype='float64')\n",
    "for idx, row in congestion.iterrows():\n",
    "    congestion1.at[idx, hours[0]] = row[time[0]]\n",
    "    for i in range(1, 20):\n",
    "        congestion1.at[idx, hours[i]] = (row[time[2*i-1]] + row[time[2*i]]) / 2\n",
    "congestion1.to_csv('congestion1.csv', index=False, encoding='cp949')"
   ]
  },
  {
   "cell_type": "code",
   "execution_count": 24,
   "id": "3858ea85",
   "metadata": {},
   "outputs": [],
   "source": [
    "congestion2 = congestion1.melt(id_vars=['요일구분', '호선', '역번호', '출발역', '상하구분'], \n",
    "                    var_name='시간대', value_name='이용객수')\n",
    "\n",
    "# Pivot the DataFrame to create new columns based on direction and day type\n",
    "congestion3 = congestion2.pivot_table(\n",
    "    index=['호선', '역번호', '출발역', '시간대'],\n",
    "    columns=['상하구분', '요일구분'],\n",
    "    values='이용객수'\n",
    ")\n",
    "\n",
    "# Rename columns to match the specified format\n",
    "congestion3.columns = ['_'.join(col).strip() for col in congestion3.columns.values]\n",
    "congestion3 = congestion3.reset_index()"
   ]
  },
  {
   "cell_type": "code",
   "execution_count": 25,
   "id": "7c732a5c",
   "metadata": {},
   "outputs": [],
   "source": [
    "congestion3 = congestion3.fillna(0)\n",
    "congestion3.rename(columns = {'출발역' : '역명', '시간대' : 'hour', '상선_공휴일' : '상선_Sunday', '상선_토요일': '상선_Saturday', '상선_평일' : '상선_Weekday', '하선_공휴일' : '하선_Sunday', '하선_토요일': '하선_Saturday', '하선_평일' : '하선_Weekday'}, inplace = True)\n",
    "congestion3.drop(columns='역번호', inplace=True)\n",
    "congestion3 = pd.merge(congestion3, station_number, how='inner', on=['호선','역명'])\n",
    "\n",
    "congestion3.to_csv('congestion3.csv', index=False, encoding='cp949')"
   ]
  },
  {
   "cell_type": "code",
   "execution_count": 26,
   "id": "742b771e",
   "metadata": {},
   "outputs": [],
   "source": [
    "final = pd.merge(new, congestion3, how='inner', on=['호선', '역명', 'hour', '역번호'])\n",
    "col = ['호선', '역번호', '역명', 'hour', '승차_Weekday', '승차_Saturday', '승차_Sunday', '하차_Weekday', '하차_Saturday', '하차_Sunday', '환승_Weekday', '환승_Saturday', '환승_Sunday', 'interval_Weekday', 'interval_Saturday', 'interval_Sunday', 'capacity', '상선_Weekday', '상선_Saturday', '상선_Sunday', '하선_Weekday', '하선_Saturday', '하선_Sunday']\n",
    "final = final[col]\n",
    "final.to_csv('2022_final.csv', index=False, encoding='cp949')"
   ]
  },
  {
   "cell_type": "code",
   "execution_count": null,
   "id": "4cd729d6",
   "metadata": {},
   "outputs": [],
   "source": []
  }
 ],
 "metadata": {
  "kernelspec": {
   "display_name": "subway",
   "language": "python",
   "name": "subway"
  },
  "language_info": {
   "codemirror_mode": {
    "name": "ipython",
    "version": 3
   },
   "file_extension": ".py",
   "mimetype": "text/x-python",
   "name": "python",
   "nbconvert_exporter": "python",
   "pygments_lexer": "ipython3",
   "version": "3.10.14"
  }
 },
 "nbformat": 4,
 "nbformat_minor": 5
}
