{
 "cells": [
  {
   "cell_type": "code",
   "execution_count": 1,
   "id": "59e82865",
   "metadata": {},
   "outputs": [],
   "source": [
    "import numpy as np\n",
    "import pandas as pd"
   ]
  },
  {
   "cell_type": "code",
   "execution_count": 2,
   "id": "f9d66a38",
   "metadata": {},
   "outputs": [
    {
     "name": "stdout",
     "output_type": "stream",
     "text": [
      "cuda\n"
     ]
    }
   ],
   "source": [
    "import torch\n",
    "if torch.cuda.is_available():\n",
    "    device = \"cuda\"\n",
    "elif torch.backends.mps.is_available():\n",
    "    device = \"mps\"\n",
    "else:\n",
    "    device = \"cpu\"\n",
    "print(device)"
   ]
  },
  {
   "cell_type": "code",
   "execution_count": 3,
   "id": "ef9490c8",
   "metadata": {},
   "outputs": [
    {
     "name": "stdout",
     "output_type": "stream",
     "text": [
      "NVIDIA GeForce RTX 4070 Laptop GPU\n"
     ]
    }
   ],
   "source": [
    "#check gpu device (if using gpu)\n",
    "print(torch.cuda.get_device_name(0))"
   ]
  },
  {
   "cell_type": "code",
   "execution_count": 4,
   "id": "29a0c44a",
   "metadata": {},
   "outputs": [],
   "source": [
    "df = pd.read_csv(\"2022_final.csv\", encoding='cp949')\n",
    "stations_to_remove = df[(df['역번호'] > 1000) | (df['역번호'] < 199)].index\n",
    "df.drop(stations_to_remove, inplace=True)"
   ]
  },
  {
   "cell_type": "code",
   "execution_count": 5,
   "id": "487dbd09",
   "metadata": {},
   "outputs": [],
   "source": [
    "from sklearn.preprocessing import MinMaxScaler\n",
    "\n",
    "feature_scaler = MinMaxScaler(feature_range=(0, 1))\n",
    "up_weekday_scaler = MinMaxScaler(feature_range=(0, 1))\n",
    "up_saturday_scaler = MinMaxScaler(feature_range=(0, 1))\n",
    "up_sunday_scaler = MinMaxScaler(feature_range=(0, 1))\n",
    "down_weekday_scaler = MinMaxScaler(feature_range=(0, 1))\n",
    "down_saturday_scaler = MinMaxScaler(feature_range=(0, 1))\n",
    "down_sunday_scaler = MinMaxScaler(feature_range=(0, 1))\n",
    "\n",
    "features = ['승차_Weekday', '승차_Saturday', '승차_Sunday', '하차_Weekday', '하차_Saturday', '하차_Sunday', '환승_Weekday', '환승_Saturday', '환승_Sunday', 'interval_Weekday', 'interval_Saturday', 'interval_Sunday', 'capacity']\n",
    "\n",
    "df[features] = feature_scaler.fit_transform(df[features])\n",
    "df['상선_Weekday'] = up_weekday_scaler.fit_transform(df['상선_Weekday'].to_frame())\n",
    "df['상선_Saturday'] = up_saturday_scaler.fit_transform(df['상선_Saturday'].to_frame())\n",
    "df['상선_Sunday'] = up_sunday_scaler.fit_transform(df['상선_Sunday'].to_frame())\n",
    "df['하선_Weekday'] = down_weekday_scaler.fit_transform(df['하선_Weekday'].to_frame())\n",
    "df['하선_Saturday'] = down_saturday_scaler.fit_transform(df['하선_Saturday'].to_frame())\n",
    "df['하선_Sunday'] = down_sunday_scaler.fit_transform(df['하선_Sunday'].to_frame())\n",
    "\n",
    "df.to_csv('2022_scaled.csv', index=False, encoding='cp949')"
   ]
  },
  {
   "cell_type": "code",
   "execution_count": 6,
   "id": "dd845083",
   "metadata": {
    "scrolled": true
   },
   "outputs": [],
   "source": [
    "df['progression'] = [0.0] * len(df)\n",
    "weekday_up = ['역번호', '승차_Weekday', '하차_Weekday', '환승_Weekday', 'interval_Weekday', 'capacity', 'progression', '상선_Weekday']\n",
    "weekday_down = ['역번호', '승차_Weekday', '하차_Weekday', '환승_Weekday', 'interval_Weekday', 'capacity', 'progression', '하선_Weekday']\n",
    "weekday_up2 = ['승차_Weekday', '하차_Weekday', '환승_Weekday', 'interval_Weekday', 'capacity', 'progression', '상선_Weekday']\n",
    "weekday_down2 = ['승차_Weekday', '하차_Weekday', '환승_Weekday', 'interval_Weekday', 'capacity', 'progression', '하선_Weekday']\n",
    "hours = ['06-07시간대', '07-08시간대', '08-09시간대', '09-10시간대', '10-11시간대', '11-12시간대', '12-13시간대', '13-14시간대', '14-15시간대', '15-16시간대', '16-17시간대', '17-18시간대', '18-19시간대', '19-20시간대', '20-21시간대', '21-22시간대', '22-23시간대', '23-24시간대']\n",
    "\n",
    "start = [0, 0, 0, 9, 5, 10, 10, 9, 10]\n",
    "end = [0, 0, 0, 52, 34, 48, 47, 50, 27]\n",
    "num_stations = [0, 0, 43, 44, 51, 56, 39, 53, 18]\n",
    "\n",
    "for line in range(2,9):\n",
    "    for period in hours:\n",
    "        tmp = df.loc[df['호선'] == line]\n",
    "        tmp = tmp[weekday_up]\n",
    "        tmp2 = tmp.loc[df['hour'] == period]\n",
    "        tmp2 = tmp2.sort_values(by='역번호', axis=0, ascending=False, inplace=False)\n",
    "        if (line == 2):\n",
    "            tmp2['progression'] = [0.5] * len(tmp2)\n",
    "        else:\n",
    "            tmp2['progression'] = (num_stations[line] - (tmp2['역번호'] - line * 100 - start[line])) / num_stations[line]\n",
    "        tmp3 = tmp2[weekday_up2]\n",
    "        pd.DataFrame(tmp3).to_csv(f'weekday_split\\\\{line}_{period}_up.csv', index=False, encoding='cp949')\n",
    "\n",
    "    for period in hours:\n",
    "        tmp = df.loc[df['호선'] == line]\n",
    "        tmp = tmp[weekday_down]\n",
    "        tmp2 = tmp.loc[df['hour'] == period]\n",
    "        tmp2 = tmp2.sort_values(by='역번호', axis=0, ascending=True, inplace=False)\n",
    "        if (line == 2):\n",
    "            tmp2['progression'] = [0.5] * len(tmp2)\n",
    "        else:\n",
    "            tmp2['progression'] = (tmp2['역번호'] - line * 100 - start[line]) / num_stations[line]\n",
    "        tmp3 = tmp2[weekday_down2]\n",
    "        pd.DataFrame(tmp3).to_csv(f'weekday_split\\\\{line}_{period}_down.csv', index=False, encoding='cp949')"
   ]
  },
  {
   "cell_type": "code",
   "execution_count": 7,
   "id": "ac0fd0ce",
   "metadata": {},
   "outputs": [],
   "source": [
    "saturday_up = ['역번호', '승차_Saturday', '하차_Saturday', '환승_Saturday', 'interval_Saturday', 'capacity', 'progression', '상선_Saturday']\n",
    "saturday_down = ['역번호', '승차_Saturday', '하차_Saturday', '환승_Saturday', 'interval_Saturday', 'capacity', 'progression', '하선_Saturday']\n",
    "saturday_up2 = ['승차_Saturday', '하차_Saturday', '환승_Saturday', 'interval_Saturday', 'capacity', 'progression', '상선_Saturday']\n",
    "saturday_down2 = ['승차_Saturday', '하차_Saturday', '환승_Saturday', 'interval_Saturday', 'capacity', 'progression', '하선_Saturday']\n",
    "\n",
    "for line in range(2,9):\n",
    "    for period in hours:\n",
    "        tmp = df.loc[df['호선'] == line]\n",
    "        tmp = tmp[saturday_up]\n",
    "        tmp2 = tmp.loc[df['hour'] == period]\n",
    "        tmp2 = tmp2.sort_values(by='역번호', axis=0, ascending=True, inplace=False)\n",
    "        if (line == 2):\n",
    "            tmp2['progression'] = [0.5] * len(tmp2)\n",
    "        else:\n",
    "            tmp2['progression'] = (num_stations[line] - (tmp2['역번호'] - line * 100 - start[line])) / num_stations[line]\n",
    "        tmp3 = tmp2[saturday_up2]\n",
    "        pd.DataFrame(tmp3).to_csv(f'saturday_split\\\\{line}_{period}_up.csv', index=False, encoding='cp949')\n",
    "\n",
    "    for period in hours:\n",
    "        tmp = df.loc[df['호선'] == line]\n",
    "        tmp = tmp[saturday_down]\n",
    "        tmp2 = tmp.loc[df['hour'] == period]\n",
    "        tmp2 = tmp2.sort_values(by='역번호', axis=0, ascending=False, inplace=False)\n",
    "        if (line == 2):\n",
    "            tmp2['progression'] = [0.5] * len(tmp2)\n",
    "        else:\n",
    "            tmp2['progression'] = (num_stations[line] - (tmp2['역번호'] - line * 100 - start[line])) / num_stations[line]\n",
    "        tmp3 = tmp2[saturday_down2]\n",
    "        pd.DataFrame(tmp3).to_csv(f'saturday_split\\\\{line}_{period}_down.csv', index=False, encoding='cp949')"
   ]
  },
  {
   "cell_type": "code",
   "execution_count": 8,
   "id": "40a63d18",
   "metadata": {},
   "outputs": [],
   "source": [
    "sunday_up = ['역번호', '승차_Sunday', '하차_Sunday', '환승_Sunday', 'interval_Sunday', 'capacity', 'progression', '상선_Sunday']\n",
    "sunday_down = ['역번호', '승차_Sunday', '하차_Sunday', '환승_Sunday', 'interval_Sunday', 'capacity', 'progression', '하선_Sunday']\n",
    "sunday_up2 = ['승차_Sunday', '하차_Sunday', '환승_Sunday', 'interval_Sunday', 'capacity', 'progression', '상선_Sunday']\n",
    "sunday_down2 = ['승차_Sunday', '하차_Sunday', '환승_Sunday', 'interval_Sunday', 'capacity', 'progression', '하선_Sunday']\n",
    "\n",
    "for line in range(2, 9):\n",
    "    for period in hours:\n",
    "        tmp = df.loc[df['호선'] == line]\n",
    "        tmp = tmp[sunday_up]\n",
    "        tmp2 = tmp.loc[df['hour'] == period]\n",
    "        tmp2 = tmp2.sort_values(by='역번호', axis=0, ascending=True, inplace=False)\n",
    "        if (line == 2):\n",
    "            tmp2['progression'] = [0.5] * len(tmp2)\n",
    "        else:\n",
    "            tmp2['progression'] = (num_stations[line] - (tmp2['역번호'] - line * 100 - start[line])) / num_stations[line]\n",
    "        tmp3 = tmp2[sunday_up2]\n",
    "        pd.DataFrame(tmp3).to_csv(f'sunday_split\\\\{line}_{period}_up.csv', index=False, encoding='cp949')\n",
    "\n",
    "    for period in hours:\n",
    "        tmp = df.loc[df['호선'] == line]\n",
    "        tmp = tmp[sunday_down]\n",
    "        tmp2 = tmp.loc[df['hour'] == period]\n",
    "        tmp2 = tmp2.sort_values(by='역번호', axis=0, ascending=False, inplace=False)\n",
    "        if (line == 2):\n",
    "            tmp2['progression'] = [0.5] * len(tmp2)\n",
    "        else:\n",
    "            tmp2['progression'] = (num_stations[line] - (tmp2['역번호'] - line * 100 - start[line])) / num_stations[line]\n",
    "        tmp3 = tmp2[sunday_down2]\n",
    "        pd.DataFrame(tmp3).to_csv(f'sunday_split\\\\{line}_{period}_down.csv', index=False, encoding='cp949')"
   ]
  },
  {
   "cell_type": "code",
   "execution_count": 10,
   "id": "13afb912",
   "metadata": {},
   "outputs": [
    {
     "name": "stdout",
     "output_type": "stream",
     "text": [
      "torch.Size([19879, 8, 7])\n",
      "torch.Size([19879])\n"
     ]
    },
    {
     "name": "stderr",
     "output_type": "stream",
     "text": [
      "C:\\Users\\Kang\\AppData\\Local\\Temp\\ipykernel_13452\\2447212344.py:33: UserWarning: To copy construct from a tensor, it is recommended to use sourceTensor.clone().detach() or sourceTensor.clone().detach().requires_grad_(True), rather than torch.tensor(sourceTensor).\n",
      "  X = torch.tensor(X, dtype=torch.float32)\n"
     ]
    }
   ],
   "source": [
    "import torch.nn as nn\n",
    "from torch.utils.data import Dataset, DataLoader\n",
    "\n",
    "# Assume your time series data is already preprocessed and in the format of PyTorch tensors\n",
    "# Each time series is a 2D tensor of shape (sequence_length, num_features)\n",
    "\n",
    "# Training data (multiple time series)\n",
    "import os\n",
    "# assign directory\n",
    "directories = ['weekday_split', 'saturday_split', 'sunday_split']\n",
    "time_series_list = []\n",
    "X = []\n",
    "y = []\n",
    "time_steps = 8\n",
    "\n",
    "for directory in directories:\n",
    "    for filename in os.listdir(directory):\n",
    "        f = os.path.join(directory, filename)\n",
    "        if os.path.isfile(f):\n",
    "            tmp = pd.read_csv(f, encoding='cp949')\n",
    "            tmp = tmp.astype(float)\n",
    "            tens = torch.from_numpy(tmp.values)\n",
    "            time_series_list.append(tens)\n",
    "\n",
    "for ts in time_series_list:\n",
    "    for i in range(len(ts) - time_steps):\n",
    "        X.append(ts[i:i + time_steps])\n",
    "        y.append(ts[i + time_steps, -1])  # Assuming the last feature is the target\n",
    "\n",
    "y = np.array(y)\n",
    "# Convert to PyTorch tensors\n",
    "X = torch.stack(X, dim=0)\n",
    "X = torch.tensor(X, dtype=torch.float32)\n",
    "y = torch.tensor(y, dtype=torch.float32)\n",
    "print(X.size())\n",
    "print(y.size())"
   ]
  },
  {
   "cell_type": "code",
   "execution_count": 11,
   "id": "9b6e9fb3",
   "metadata": {},
   "outputs": [],
   "source": [
    "class TimeSeriesDataset(Dataset):\n",
    "    def __init__(self, X, y):\n",
    "        self.X = X\n",
    "        self.y = y\n",
    "\n",
    "    def __len__(self):\n",
    "        return len(self.X)\n",
    "\n",
    "    def __getitem__(self, idx):\n",
    "        return self.X[idx], self.y[idx].unsqueeze(-1)\n",
    "\n",
    "dataset = TimeSeriesDataset(X, y)\n",
    "\n",
    "# Split the dataset into training and validation sets\n",
    "train_size = int(0.8 * len(dataset))  # 80% of the data for training\n",
    "val_size = len(dataset) - train_size  # Remaining 20% for validation\n",
    "\n",
    "train_dataset, val_dataset = torch.utils.data.random_split(dataset, [train_size, val_size])\n",
    "\n",
    "train_loader = DataLoader(train_dataset, batch_size=32, shuffle=True)\n",
    "val_loader = DataLoader(val_dataset, batch_size=32, shuffle=False)"
   ]
  },
  {
   "cell_type": "code",
   "execution_count": 12,
   "id": "bd2532f8",
   "metadata": {},
   "outputs": [],
   "source": [
    "import torch.nn as nn\n",
    "import torch.optim as optim\n",
    "\n",
    "class LSTMModel(nn.Module):\n",
    "    def __init__(self, input_size, hidden_size, num_layers, output_size):\n",
    "        super(LSTMModel, self).__init__()\n",
    "        self.lstm = nn.LSTM(input_size, hidden_size, num_layers, batch_first=True)\n",
    "        self.fc = nn.Linear(hidden_size, output_size)\n",
    "    \n",
    "    def forward(self, x):\n",
    "        h_0 = torch.zeros(num_layers, x.size(0), hidden_size).to(x.device)\n",
    "        c_0 = torch.zeros(num_layers, x.size(0), hidden_size).to(x.device)\n",
    "        \n",
    "        out, _ = self.lstm(x, (h_0, c_0))\n",
    "        out = self.fc(out[:, -1, :])\n",
    "        return out\n",
    "\n",
    "input_size = X.shape[2]  # Number of features in the input data\n",
    "hidden_size = 60        # Number of features in the hidden state\n",
    "num_layers = 4        # Number of stacked LSTM layers\n",
    "output_size = 1          # Number of output features (1 target feature)\n",
    "\n",
    "model = LSTMModel(input_size, hidden_size, num_layers, output_size).to(device)\n",
    "criterion = nn.MSELoss()\n",
    "optimizer = optim.Adam(model.parameters(), lr=0.001)"
   ]
  },
  {
   "cell_type": "code",
   "execution_count": 13,
   "id": "83e3f13f",
   "metadata": {
    "scrolled": true
   },
   "outputs": [
    {
     "name": "stdout",
     "output_type": "stream",
     "text": [
      "Epoch [1/70], Loss: 0.0024, Val Loss: 0.0025\n",
      "Epoch [2/70], Loss: 0.0106, Val Loss: 0.0023\n",
      "Epoch [3/70], Loss: 0.0009, Val Loss: 0.0023\n",
      "Epoch [4/70], Loss: 0.0021, Val Loss: 0.0020\n",
      "Epoch [5/70], Loss: 0.0026, Val Loss: 0.0020\n",
      "Epoch [6/70], Loss: 0.0017, Val Loss: 0.0019\n",
      "Epoch [7/70], Loss: 0.0021, Val Loss: 0.0025\n",
      "Epoch [8/70], Loss: 0.0026, Val Loss: 0.0021\n",
      "Epoch [9/70], Loss: 0.0021, Val Loss: 0.0022\n",
      "Epoch [10/70], Loss: 0.0014, Val Loss: 0.0019\n",
      "Epoch [11/70], Loss: 0.0011, Val Loss: 0.0020\n",
      "Epoch [12/70], Loss: 0.0016, Val Loss: 0.0017\n",
      "Epoch [13/70], Loss: 0.0012, Val Loss: 0.0018\n",
      "Epoch [14/70], Loss: 0.0027, Val Loss: 0.0022\n",
      "Epoch [15/70], Loss: 0.0023, Val Loss: 0.0017\n",
      "Epoch [16/70], Loss: 0.0013, Val Loss: 0.0017\n",
      "Epoch [17/70], Loss: 0.0016, Val Loss: 0.0020\n",
      "Epoch [18/70], Loss: 0.0020, Val Loss: 0.0020\n",
      "Epoch [19/70], Loss: 0.0013, Val Loss: 0.0017\n",
      "Epoch [20/70], Loss: 0.0026, Val Loss: 0.0017\n",
      "Epoch [21/70], Loss: 0.0062, Val Loss: 0.0015\n",
      "Epoch [22/70], Loss: 0.0027, Val Loss: 0.0016\n",
      "Epoch [23/70], Loss: 0.0026, Val Loss: 0.0017\n",
      "Epoch [24/70], Loss: 0.0011, Val Loss: 0.0015\n",
      "Epoch [25/70], Loss: 0.0022, Val Loss: 0.0020\n",
      "Epoch [26/70], Loss: 0.0009, Val Loss: 0.0015\n",
      "Epoch [27/70], Loss: 0.0009, Val Loss: 0.0014\n",
      "Epoch [28/70], Loss: 0.0012, Val Loss: 0.0015\n",
      "Epoch [29/70], Loss: 0.0009, Val Loss: 0.0013\n",
      "Epoch [30/70], Loss: 0.0009, Val Loss: 0.0015\n",
      "Epoch [31/70], Loss: 0.0011, Val Loss: 0.0013\n",
      "Epoch [32/70], Loss: 0.0008, Val Loss: 0.0014\n",
      "Epoch [33/70], Loss: 0.0015, Val Loss: 0.0012\n",
      "Epoch [34/70], Loss: 0.0010, Val Loss: 0.0012\n",
      "Epoch [35/70], Loss: 0.0009, Val Loss: 0.0015\n",
      "Epoch [36/70], Loss: 0.0007, Val Loss: 0.0012\n",
      "Epoch [37/70], Loss: 0.0006, Val Loss: 0.0012\n",
      "Epoch [38/70], Loss: 0.0016, Val Loss: 0.0013\n",
      "Epoch [39/70], Loss: 0.0008, Val Loss: 0.0011\n",
      "Epoch [40/70], Loss: 0.0004, Val Loss: 0.0011\n",
      "Epoch [41/70], Loss: 0.0009, Val Loss: 0.0011\n",
      "Epoch [42/70], Loss: 0.0010, Val Loss: 0.0010\n",
      "Epoch [43/70], Loss: 0.0007, Val Loss: 0.0012\n",
      "Epoch [44/70], Loss: 0.0009, Val Loss: 0.0010\n",
      "Epoch [45/70], Loss: 0.0015, Val Loss: 0.0011\n",
      "Epoch [46/70], Loss: 0.0011, Val Loss: 0.0010\n",
      "Epoch [47/70], Loss: 0.0005, Val Loss: 0.0010\n",
      "Epoch [48/70], Loss: 0.0006, Val Loss: 0.0010\n",
      "Epoch [49/70], Loss: 0.0014, Val Loss: 0.0010\n",
      "Epoch [50/70], Loss: 0.0006, Val Loss: 0.0009\n",
      "Epoch [51/70], Loss: 0.0019, Val Loss: 0.0009\n",
      "Epoch [52/70], Loss: 0.0010, Val Loss: 0.0010\n",
      "Epoch [53/70], Loss: 0.0004, Val Loss: 0.0009\n",
      "Epoch [54/70], Loss: 0.0007, Val Loss: 0.0009\n",
      "Epoch [55/70], Loss: 0.0006, Val Loss: 0.0009\n",
      "Epoch [56/70], Loss: 0.0005, Val Loss: 0.0009\n",
      "Epoch [57/70], Loss: 0.0003, Val Loss: 0.0009\n",
      "Epoch [58/70], Loss: 0.0004, Val Loss: 0.0009\n",
      "Epoch [59/70], Loss: 0.0005, Val Loss: 0.0008\n",
      "Epoch [60/70], Loss: 0.0005, Val Loss: 0.0008\n",
      "Epoch [61/70], Loss: 0.0006, Val Loss: 0.0008\n",
      "Epoch [62/70], Loss: 0.0004, Val Loss: 0.0009\n",
      "Epoch [63/70], Loss: 0.0004, Val Loss: 0.0008\n",
      "Epoch [64/70], Loss: 0.0004, Val Loss: 0.0008\n",
      "Epoch [65/70], Loss: 0.0002, Val Loss: 0.0008\n",
      "Epoch [66/70], Loss: 0.0004, Val Loss: 0.0008\n",
      "Epoch [67/70], Loss: 0.0004, Val Loss: 0.0008\n",
      "Epoch [68/70], Loss: 0.0004, Val Loss: 0.0008\n",
      "Epoch [69/70], Loss: 0.0008, Val Loss: 0.0008\n",
      "Epoch [70/70], Loss: 0.0005, Val Loss: 0.0008\n"
     ]
    }
   ],
   "source": [
    "# Training loop\n",
    "num_epochs = 70\n",
    "for epoch in range(num_epochs):\n",
    "    model.train()\n",
    "    for inputs, targets in train_loader:\n",
    "        inputs, targets = inputs.to(device), targets.to(device)\n",
    "        \n",
    "        outputs = model(inputs)\n",
    "        loss = criterion(outputs, targets)\n",
    "        \n",
    "        optimizer.zero_grad()\n",
    "        loss.backward()\n",
    "        optimizer.step()\n",
    "    \n",
    "    # Validation\n",
    "    model.eval()\n",
    "    val_loss = 0\n",
    "    with torch.no_grad():\n",
    "        for inputs, targets in val_loader:\n",
    "            inputs, targets = inputs.to(device), targets.to(device)\n",
    "            outputs = model(inputs)\n",
    "            val_loss += criterion(outputs, targets).item()\n",
    "    \n",
    "    val_loss /= len(val_loader)\n",
    "    print(f'Epoch [{epoch+1}/{num_epochs}], Loss: {loss.item():.4f}, Val Loss: {val_loss:.4f}')"
   ]
  },
  {
   "cell_type": "code",
   "execution_count": 22,
   "id": "715f9ea6",
   "metadata": {},
   "outputs": [
    {
     "name": "stdout",
     "output_type": "stream",
     "text": [
      "(25, 7)\n"
     ]
    }
   ],
   "source": [
    "scaled_new_ts = pd.read_csv(\"4_20-21시간대_up.csv\", encoding='cp949')\n",
    "scaled_new_ts = scaled_new_ts.to_numpy()\n",
    "print(scaled_new_ts.shape)"
   ]
  },
  {
   "cell_type": "code",
   "execution_count": 23,
   "id": "a2268951",
   "metadata": {},
   "outputs": [],
   "source": [
    "# New time series for testing\n",
    "actual = scaled_new_ts[:, -1].copy()\n",
    "scaled_new_ts[time_steps:, -1] = 0.0\n",
    "X_test = scaled_new_ts.copy()\n",
    "# Initialize the placeholder for predictions\n",
    "predictions = []"
   ]
  },
  {
   "cell_type": "code",
   "execution_count": 24,
   "id": "82c549b7",
   "metadata": {},
   "outputs": [
    {
     "name": "stdout",
     "output_type": "stream",
     "text": [
      "Predicted values: [0.49223268, 0.55302805, 0.59948254, 0.6101891, 0.68271565, 0.50707304, 0.47681022, 0.44612676, 0.42431593, 0.33253032, 0.33147523, 0.3468335, 0.30739588, 0.37064248, 0.3793793, 0.36240828, 0.75844723, 0.6545705]\n",
      "Actual values: [0.46213808 0.51670379 0.53619154 0.58296214 0.58685969 0.45712695\n",
      " 0.39587973 0.33853007 0.30289532 0.21046771 0.19988864 0.20824053\n",
      " 0.20211581 0.22884187 0.2188196  0.22104677 0.3435412 ]\n"
     ]
    }
   ],
   "source": [
    "# Make predictions\n",
    "model.eval()\n",
    "with torch.no_grad():\n",
    "    for t in range(time_steps, X_test.shape[0]+1):\n",
    "        # Prepare the input for the model\n",
    "        X_input = X_test[t-time_steps:t, :]  # Inputs up to the current time step\n",
    "        X_input = [X_input]\n",
    "        \n",
    "        # Convert to tensor\n",
    "        X_input_tensor = torch.tensor(X_input, dtype=torch.float32).to(device)\n",
    "        \n",
    "        # Predict the target feature\n",
    "        y_pred = model(X_input_tensor)\n",
    "        pred_value = y_pred.cpu().numpy()[0][0]\n",
    "        # Update the placeholder with the predictions\n",
    "        predictions.append(pred_value)\n",
    "        \n",
    "        # Update the input with the predicted target feature for the next step\n",
    "        if (t != X_test.shape[0]):\n",
    "            X_test[t, -1] = pred_value\n",
    "        \n",
    "predicted = predictions\n",
    "actual = actual[time_steps:]\n",
    "#predicted = np.reshape(predicted, (-1,1))\n",
    "#predicted = down_saturday_scaler.inverse_transform(predicted)  #switch scaler as needed\n",
    "#actual = np.reshape(actual, (-1,1))\n",
    "#actual = down_saturday_scaler.inverse_transform(actual)\n",
    "    \n",
    "# Print the final prediction values of the last feature (target feature)\n",
    "print(\"Predicted values:\", predicted)  # Remove the extra dimension for readability\n",
    "print(\"Actual values:\", actual)"
   ]
  },
  {
   "cell_type": "code",
   "execution_count": 25,
   "id": "6080d68a",
   "metadata": {
    "scrolled": true
   },
   "outputs": [
    {
     "data": {
      "image/png": "[encoded data removed]",
      "text/plain": [
       "<Figure size 1200x600 with 1 Axes>"
      ]
     },
     "metadata": {},
     "output_type": "display_data"
    }
   ],
   "source": [
    "import matplotlib.pyplot as plt\n",
    "\n",
    "plt.figure(figsize=(12, 6))\n",
    "plt.plot(actual, label='Actual')\n",
    "plt.plot(predicted, label='Predicted')\n",
    "plt.title('Actual vs Predicted Values')\n",
    "plt.xlabel('Time Step')\n",
    "plt.ylabel('Value')\n",
    "plt.legend()\n",
    "plt.show()"
   ]
  },
  {
   "cell_type": "code",
   "execution_count": null,
   "id": "e129674b",
   "metadata": {},
   "outputs": [],
   "source": []
  }
 ],
 "metadata": {
  "kernelspec": {
   "display_name": "subway",
   "language": "python",
   "name": "subway"
  },
  "language_info": {
   "codemirror_mode": {
    "name": "ipython",
    "version": 3
   },
   "file_extension": ".py",
   "mimetype": "text/x-python",
   "name": "python",
   "nbconvert_exporter": "python",
   "pygments_lexer": "ipython3",
   "version": "3.10.14"
  }
 },
 "nbformat": 4,
 "nbformat_minor": 5
}
